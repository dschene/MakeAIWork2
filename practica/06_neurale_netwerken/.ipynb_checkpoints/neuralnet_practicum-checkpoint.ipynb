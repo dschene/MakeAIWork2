{
 "cells": [
  {
   "cell_type": "markdown",
   "id": "f32b8636",
   "metadata": {},
   "source": [
    "# Practicum opdracht implementeren neural net"
   ]
  },
  {
   "cell_type": "markdown",
   "id": "c8260f66",
   "metadata": {},
   "source": [
    "## Stap 1: definieren van de dataset\n",
    "\n",
    "We werken met een 3x3 rooster waarbinnen elk vakje zwart (1) of wit (0) kan zijn. We kunnen dus beginnen met het diefiniëren van de dataset. Als datatype gebruiken we lists om de roosters en waardes binnen de roosters te implementeren. Bij een 3x3 rooster zou een enkele lijst volstaan, maar voor de volledigheid wordt er gewerkt met een list-of-lists, waarbij elke sub-lijst een horizontale regel in het rooster is. "
   ]
  },
  {
   "cell_type": "code",
   "execution_count": 16,
   "id": "7d8aeda7",
   "metadata": {},
   "outputs": [],
   "source": [
    "import random"
   ]
  },
  {
   "cell_type": "code",
   "execution_count": 17,
   "id": "8b53a40b",
   "metadata": {},
   "outputs": [],
   "source": [
    "# Classes\n",
    "\n",
    "# 3 x 3 matrix\n",
    "\n",
    "# Een hele cirkel\n",
    "cirkel = [[1,1,1],\n",
    "          [1,0,1],\n",
    "          [1,1,1]]\n",
    "\n",
    "# Een recht kruis\n",
    "kruis_1 = [[0,1,0],\n",
    "           [1,1,1],\n",
    "           [0,1,0]]\n"
   ]
  },
  {
   "cell_type": "markdown",
   "id": "90b74f2b",
   "metadata": {},
   "source": [
    "<p>\n",
    "    labels staan in een predictionMatrix<br>\n",
    "    waarbij het eerste getal de score op cirkel<br> \n",
    "    en de tweede de score op kruis<br>\n",
    "    2 x 1 matrix<br>\n",
    "    [[scoreCirkel], [scoreKruis]]\n",
    "</p>    "
   ]
  },
  {
   "cell_type": "code",
   "execution_count": 18,
   "id": "75762d8c",
   "metadata": {},
   "outputs": [
    {
     "data": {
      "text/plain": [
       "tuple"
      ]
     },
     "execution_count": 18,
     "metadata": {},
     "output_type": "execute_result"
    }
   ],
   "source": [
    "a = random.uniform(0, 1)\n",
    "b = random.uniform(0, 1)\n",
    "type((a, b))"
   ]
  },
  {
   "cell_type": "code",
   "execution_count": 19,
   "id": "18149215",
   "metadata": {},
   "outputs": [
    {
     "name": "stdout",
     "output_type": "stream",
     "text": [
      "[[0.59], [0.54], [0.55], [0.12], [0.02], [0.64], [0.77], [0.08], [0.96]]\n"
     ]
    }
   ],
   "source": [
    "size = 9\n",
    "randomValue = round(random.uniform(0, 1), 2)\n",
    "weightMatrix = [[round(random.uniform(0, 1), 2)] for i in range(size)]\n",
    "print(weightMatrix)"
   ]
  },
  {
   "cell_type": "code",
   "execution_count": 20,
   "id": "564f6ec8",
   "metadata": {},
   "outputs": [],
   "source": [
    "def initializeBias():\n",
    "    # Matrixvermenigvuldiging van de getransponeerde platgemaakte inputMatrix\n",
    "    # en de weightMatrix       \n",
    "    return random.uniform(0, 1)\n",
    "\n",
    "# Initializeer bias en weightVector met random numbers tussen 0 en 1\n",
    "def initializeWeightMatrix(size):\n",
    "    # Matrixvermenigvuldiging van de getransponeerde platgemaakte inputMatrix\n",
    "    # en de weightMatrix       \n",
    "    # size x 1 vector\n",
    "    return [[round(random.uniform(0, 1), 2)] for i in range(size)]\n",
    "\n",
    "# Input: 3x3\n",
    "# Output: # 9 x 1\n",
    "def flatten(matrix):    \n",
    "    flatMatrix = matrix    \n",
    "    return flatMatrix\n",
    "\n",
    "def transpose(matrix):\n",
    "    transposedMatrix = matrix    \n",
    "    return transposedMatrix\n",
    "\n",
    "# Output: enkelwaardig resultaat\n",
    "# gewogen som \n",
    "def multiply(inputMatrix, weightMatrix):\n",
    "    weightedSum = 0\n",
    "    return weightedSum\n",
    "\n",
    "# Input: 3x3 matrix\n",
    "# Output: 2x1 matrix\n",
    "def classify(inputMatrix):\n",
    "        \n",
    "    # Plat maken van de inputMatrix\n",
    "    # 3x3 -> 9x1\n",
    "    flatMatrix = flatten(inputMatrix)\n",
    "    \n",
    "    # Transponeren van de inputMatrix\n",
    "    transposedMatrix = transpose(flatMatrix)    \n",
    "    predictionMatrix = multiply(transposedMatrix, weightMatrix)\n",
    "    \n",
    "    return predictionMatrix"
   ]
  },
  {
   "cell_type": "code",
   "execution_count": 21,
   "id": "52ef12ea",
   "metadata": {},
   "outputs": [
    {
     "name": "stdout",
     "output_type": "stream",
     "text": [
      "bias : 0.9594339620100214\n",
      "weightMatrix : [[0.97], [0.2], [0.06], [0.51], [0.47], [0.73], [0.65], [0.72], [0.77]]\n"
     ]
    },
    {
     "data": {
      "text/plain": [
       "0"
      ]
     },
     "execution_count": 21,
     "metadata": {},
     "output_type": "execute_result"
    }
   ],
   "source": [
    "# inputVector\n",
    "test_circle = [\n",
    "    [1,1,1],\n",
    "    [1,0,1],\n",
    "    [1,1,1]\n",
    "]\n",
    "\n",
    "bias = initializeBias()\n",
    "print(f\"bias : {bias}\")\n",
    "\n",
    "# weightMatrix with size of flattened inputVector\n",
    "size = len(test_circle) * len(test_circle[0])\n",
    "weightMatrix = initializeWeightMatrix(size)\n",
    "print(f\"weightMatrix : {weightMatrix}\")\n",
    "\n",
    "#functie geeft 2x1 terug en accepteert 3x3 matrix\n",
    "classify(test_circle)"
   ]
  },
  {
   "cell_type": "code",
   "execution_count": null,
   "id": "2652a2cf",
   "metadata": {},
   "outputs": [],
   "source": []
  },
  {
   "cell_type": "code",
   "execution_count": null,
   "id": "1112bbc7",
   "metadata": {},
   "outputs": [],
   "source": []
  }
 ],
 "metadata": {
  "kernelspec": {
   "display_name": "Python 3 (ipykernel)",
   "language": "python",
   "name": "python3"
  },
  "language_info": {
   "codemirror_mode": {
    "name": "ipython",
    "version": 3
   },
   "file_extension": ".py",
   "mimetype": "text/x-python",
   "name": "python",
   "nbconvert_exporter": "python",
   "pygments_lexer": "ipython3",
   "version": "3.11.0"
  }
 },
 "nbformat": 4,
 "nbformat_minor": 5
}
