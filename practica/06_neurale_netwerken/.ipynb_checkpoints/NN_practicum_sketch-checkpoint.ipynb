{
 "cells": [
  {
   "cell_type": "markdown",
   "id": "5ccdfda2",
   "metadata": {},
   "source": [
    "# Practicum opdracht implementeren neural net"
   ]
  },
  {
   "cell_type": "markdown",
   "id": "50a76183",
   "metadata": {},
   "source": [
    "## Stap 1: definieren van de dataset\n",
    "\n",
    "We werken met een 3x3 rooster waarbinnen elk vakje zwart (1) of wit (0) kan zijn. We kunnen dus beginnen met het diefiniëren van de dataset. Als datatype gebruiken we lists om de roosters en waardes binnen de roosters te implementeren. Bij een 3x3 rooster zou een enkele lijst volstaan, maar voor de volledigheid wordt er gewerkt met een list-of-lists, waarbij elke sub-lijst een horizontale regel in het rooster is. "
   ]
  },
  {
   "cell_type": "code",
   "execution_count": 2,
   "id": "ed5445be",
   "metadata": {},
   "outputs": [],
   "source": [
    "#Een hele cirkel\n",
    "cirkel = [[1,1,1],\n",
    "          [1,0,1],\n",
    "          [1,1,1]]\n",
    "\n",
    "#Een recht kruis\n",
    "kruis_1 = [[0,1,0],\n",
    "           [1,1,1],\n",
    "           [0,1,0]]\n",
    "\n",
    "#een gekanteld kruis\n",
    "kruis_2 = [[1,0,1],\n",
    "           [0,1,0],\n",
    "           [1,0,1]]"
   ]
  },
  {
   "cell_type": "code",
   "execution_count": null,
   "id": "dcc9f448",
   "metadata": {},
   "outputs": [],
   "source": []
  },
  {
   "cell_type": "code",
   "execution_count": 3,
   "id": "0c20a021",
   "metadata": {},
   "outputs": [],
   "source": [
    "#Naast de bovenstaande figuren zijn natuurlijk ook de negatieven hiervan valide cirkels/kruisjes\n",
    "\n",
    "cirkel_neg = [[0,0,0],\n",
    "              [0,1,0],\n",
    "              [0,0,0]]\n",
    "\n",
    "kruis_1_neg = [[1,0,1],\n",
    "               [0,0,0],\n",
    "               [1,0,1]]\n",
    "\n",
    "kruis_2_neg = [[0,1,0],\n",
    "               [1,0,1],\n",
    "               [0,1,0]]"
   ]
  },
  {
   "cell_type": "code",
   "execution_count": 40,
   "id": "02988b17",
   "metadata": {},
   "outputs": [],
   "source": [
    "#Functie voor matrix multiplicatie \n",
    "def m_multi(m1, m2):\n",
    "    output_matrix = []\n",
    "    if len(m1[0]) == len(m2):\n",
    "\n",
    "        for i, n in enumerate(m1):\n",
    "            l = []\n",
    "            for x in range(len(m2[0])):\n",
    "                to_add = 0\n",
    "                for z, y in enumerate(m2):\n",
    "                    to_add += (n[z] * y[x])\n",
    "\n",
    "                l.append(to_add)\n",
    "\n",
    "            output_matrix.append(l)     \n",
    "            \n",
    "            \n",
    "    return output_matrix\n",
    "        \n",
    "\n",
    "#Softmax activation function\n",
    "def softmax(vector):\n",
    "    e = 2.71828\n",
    "    output_vec = []\n",
    "    vec = [e**a for a in vector]\n",
    "    vec_sum = sum(vec)\n",
    "    \n",
    "    for n in vec:\n",
    "        output_vec.append(n/vec_sum)\n",
    "    \n",
    "    return output_vec\n",
    "    \n",
    "        \n",
    "            "
   ]
  },
  {
   "cell_type": "code",
   "execution_count": 44,
   "id": "729c257a",
   "metadata": {},
   "outputs": [
    {
     "ename": "TypeError",
     "evalue": "can only concatenate list (not \"int\") to list",
     "output_type": "error",
     "traceback": [
      "\u001b[0;31m---------------------------------------------------------------------------\u001b[0m",
      "\u001b[0;31mTypeError\u001b[0m                                 Traceback (most recent call last)",
      "Cell \u001b[0;32mIn[44], line 19\u001b[0m\n\u001b[1;32m     15\u001b[0m model_output \u001b[38;5;241m=\u001b[39m []\n\u001b[1;32m     17\u001b[0m \u001b[38;5;28;01mfor\u001b[39;00m i, w \u001b[38;5;129;01min\u001b[39;00m \u001b[38;5;28menumerate\u001b[39m(weight_list):\n\u001b[0;32m---> 19\u001b[0m     output \u001b[38;5;241m=\u001b[39m \u001b[43mm_multi\u001b[49m\u001b[43m(\u001b[49m\u001b[43mcirkel\u001b[49m\u001b[43m,\u001b[49m\u001b[43m \u001b[49m\u001b[43mw\u001b[49m\u001b[43m)\u001b[49m\u001b[43m \u001b[49m\u001b[38;5;241;43m+\u001b[39;49m\u001b[43m \u001b[49m\u001b[43mbias\u001b[49m\u001b[43m[\u001b[49m\u001b[43mi\u001b[49m\u001b[43m]\u001b[49m\n\u001b[1;32m     20\u001b[0m     model_output\u001b[38;5;241m.\u001b[39mappend(output)\n\u001b[1;32m     23\u001b[0m \u001b[38;5;28mprint\u001b[39m(softmax(model_output))\n",
      "\u001b[0;31mTypeError\u001b[0m: can only concatenate list (not \"int\") to list"
     ]
    }
   ],
   "source": [
    "#Definiëren van de bias per output 'node'\n",
    "bias = [1,1]\n",
    "\n",
    "weights_circle = [[1,1,1],\n",
    "                  [1,1,1],\n",
    "                  [1,1,1]]\n",
    "\n",
    "weights_cross = [[1,1,1],\n",
    "                 [1,1,1],\n",
    "                 [1,1,1]]\n",
    "\n",
    "\n",
    "weight_list = [weights_circle, weights_cross]\n",
    "\n",
    "model_output = []\n",
    "\n",
    "for i, w in enumerate(weight_list):\n",
    "    \n",
    "    output = m_multi(cirkel, w) + bias[i]\n",
    "    model_output.append(output)\n",
    "\n",
    "\n",
    "print(softmax(model_output))"
   ]
  },
  {
   "cell_type": "code",
   "execution_count": 42,
   "id": "4a62edb9",
   "metadata": {},
   "outputs": [],
   "source": [
    "#NN met een hidden layer\n",
    "\n",
    "weights_l1 = [\n",
    "            [[1,1,1],\n",
    "             [1,1,1],\n",
    "             [1,1,1]],\n",
    "    \n",
    "            [[1,1,1],\n",
    "             [1,1,1],\n",
    "             [1,1,1]],\n",
    "    \n",
    "            [[1,1,1],\n",
    "             [1,1,1],\n",
    "             [1,1,1]]\n",
    "            ]\n",
    "\n",
    "weights_l2 = [\n",
    "            [[1,1,1],\n",
    "             [1,1,1]],\n",
    "    \n",
    "            [[1,1,1],\n",
    "             [1,1,1]]\n",
    "            ]\n",
    "\n"
   ]
  },
  {
   "cell_type": "code",
   "execution_count": 43,
   "id": "ef718ea3",
   "metadata": {},
   "outputs": [
    {
     "name": "stdout",
     "output_type": "stream",
     "text": [
      "[[3, 2, 3], [3, 2, 3], [3, 2, 3]]\n"
     ]
    }
   ],
   "source": [
    "print(m_multi(weights_l1[0], cirkel))"
   ]
  },
  {
   "cell_type": "code",
   "execution_count": 32,
   "id": "5779507b",
   "metadata": {},
   "outputs": [],
   "source": [
    "def layer_1(weights, shape):\n",
    "    \n",
    "    biases_l1 = [1,1,1]\n",
    "    output_vec = []\n",
    "    \n",
    "    for i,w in enumerate(weights):\n",
    "        \n",
    "        output_vec.append((m_multi(w,shape) + biases_l1[i]))\n",
    "    \n",
    "    return [softmax(output_vec)]\n",
    "        \n",
    "\n",
    "\n",
    "def layer_2(weights, input_vector):\n",
    "    \n",
    "    biases = [1,1]\n",
    "    output_vec = []\n",
    "    \n",
    "    for i, w in enumerate(weights):\n",
    "        \n",
    "        output_vec.append(m_multi(w, input_vector) + biases[i])\n",
    "    \n",
    "    return softmax(output_vec)"
   ]
  },
  {
   "cell_type": "code",
   "execution_count": 33,
   "id": "a523c797",
   "metadata": {},
   "outputs": [
    {
     "name": "stdout",
     "output_type": "stream",
     "text": [
      "[[0.3333333333333333, 0.3333333333333333, 0.3333333333333333]]\n"
     ]
    }
   ],
   "source": [
    "layer_1_output = layer_1(weights_l1, cirkel)\n",
    "print(layer_1_output)"
   ]
  },
  {
   "cell_type": "code",
   "execution_count": 34,
   "id": "319a1ea9",
   "metadata": {},
   "outputs": [],
   "source": [
    "def neural_net(shape, weights_l1, weights_l2):\n",
    "    \n",
    "    return layer_2(weights_l2, layer_1(weights_l1, shape))"
   ]
  },
  {
   "cell_type": "code",
   "execution_count": 35,
   "id": "2b4038b9",
   "metadata": {},
   "outputs": [
    {
     "name": "stdout",
     "output_type": "stream",
     "text": [
      "[0.5, 0.5]\n"
     ]
    }
   ],
   "source": [
    "print(neural_net(cirkel,weights_l1, weights_l2))"
   ]
  }
 ],
 "metadata": {
  "kernelspec": {
   "display_name": "Python 3 (ipykernel)",
   "language": "python",
   "name": "python3"
  },
  "language_info": {
   "codemirror_mode": {
    "name": "ipython",
    "version": 3
   },
   "file_extension": ".py",
   "mimetype": "text/x-python",
   "name": "python",
   "nbconvert_exporter": "python",
   "pygments_lexer": "ipython3",
   "version": "3.11.0"
  }
 },
 "nbformat": 4,
 "nbformat_minor": 5
}
