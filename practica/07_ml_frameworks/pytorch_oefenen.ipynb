{
 "cells": [
  {
   "cell_type": "code",
   "execution_count": 1,
   "id": "738cde12",
   "metadata": {},
   "outputs": [],
   "source": [
    "import torch\n",
    "import numpy as np"
   ]
  },
  {
   "cell_type": "code",
   "execution_count": 2,
   "id": "b6b88784",
   "metadata": {},
   "outputs": [],
   "source": [
    "t1 = [[1,2,3],\n",
    "      [4,5,6]]"
   ]
  },
  {
   "cell_type": "code",
   "execution_count": 3,
   "id": "e463ef05",
   "metadata": {},
   "outputs": [
    {
     "data": {
      "text/plain": [
       "tensor([[1, 2, 3],\n",
       "        [4, 5, 6]])"
      ]
     },
     "execution_count": 3,
     "metadata": {},
     "output_type": "execute_result"
    }
   ],
   "source": [
    "torch.tensor(t1)"
   ]
  },
  {
   "cell_type": "code",
   "execution_count": 4,
   "id": "e99801f9",
   "metadata": {},
   "outputs": [
    {
     "name": "stdout",
     "output_type": "stream",
     "text": [
      "[[1, 2, 3], [4, 5, 6]]\n"
     ]
    }
   ],
   "source": [
    "print(t1)"
   ]
  },
  {
   "cell_type": "code",
   "execution_count": 5,
   "id": "24df9c15",
   "metadata": {},
   "outputs": [
    {
     "name": "stdout",
     "output_type": "stream",
     "text": [
      "<class 'list'>\n"
     ]
    }
   ],
   "source": [
    "print(type(t1))"
   ]
  },
  {
   "cell_type": "code",
   "execution_count": 6,
   "id": "27b3c23d",
   "metadata": {},
   "outputs": [],
   "source": [
    "t1_tensor = torch.tensor(t1)"
   ]
  },
  {
   "cell_type": "code",
   "execution_count": 13,
   "id": "a21c71b2",
   "metadata": {},
   "outputs": [
    {
     "name": "stdout",
     "output_type": "stream",
     "text": [
      "<class 'torch.Tensor'>\n"
     ]
    }
   ],
   "source": [
    "print(type(t1_tensor))"
   ]
  },
  {
   "cell_type": "code",
   "execution_count": 18,
   "id": "3fedf84b",
   "metadata": {},
   "outputs": [
    {
     "name": "stdout",
     "output_type": "stream",
     "text": [
      "tensor([[3.6562e-01, 1.7906e-03, 9.4483e-01, 2.3733e-01, 2.6753e-01],\n",
      "        [2.6973e-01, 2.8690e-02, 2.0344e-01, 7.6356e-01, 4.5845e-01],\n",
      "        [6.1287e-01, 9.2951e-05, 3.8688e-01, 6.4347e-01, 2.3986e-01],\n",
      "        [1.4794e-01, 7.6808e-01, 2.5385e-01, 3.3292e-01, 3.3414e-01],\n",
      "        [1.1650e-01, 1.5798e-02, 2.7456e-01, 4.9836e-01, 3.4747e-01],\n",
      "        [5.7541e-01, 4.5197e-02, 8.7119e-02, 8.0190e-02, 3.1104e-01],\n",
      "        [1.7844e-01, 4.7425e-01, 7.8138e-01, 4.4024e-01, 2.6199e-01],\n",
      "        [3.3199e-02, 5.8929e-02, 3.5366e-01, 1.1659e-02, 4.4002e-01],\n",
      "        [9.4642e-01, 2.9736e-02, 1.3921e-03, 1.6365e-02, 3.1624e-01],\n",
      "        [1.8592e-01, 9.9170e-01, 3.5441e-02, 1.5118e-01, 1.7163e-01]])\n"
     ]
    }
   ],
   "source": [
    "t2 = torch.rand(10,5)\n",
    "print(t2 * t2)"
   ]
  },
  {
   "cell_type": "code",
   "execution_count": null,
   "id": "6d30e385",
   "metadata": {},
   "outputs": [],
   "source": []
  }
 ],
 "metadata": {
  "kernelspec": {
   "display_name": "Python 3 (ipykernel)",
   "language": "python",
   "name": "python3"
  },
  "language_info": {
   "codemirror_mode": {
    "name": "ipython",
    "version": 3
   },
   "file_extension": ".py",
   "mimetype": "text/x-python",
   "name": "python",
   "nbconvert_exporter": "python",
   "pygments_lexer": "ipython3",
   "version": "3.11.0"
  }
 },
 "nbformat": 4,
 "nbformat_minor": 5
}
