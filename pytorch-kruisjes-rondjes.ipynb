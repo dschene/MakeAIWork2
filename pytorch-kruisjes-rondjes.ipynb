{
 "cells": [
  {
   "cell_type": "code",
   "execution_count": 1,
   "id": "6024bbbc-169d-4b34-962a-184b21942a8e",
   "metadata": {
    "tags": []
   },
   "outputs": [],
   "source": [
    "import os\n",
    "\n",
    "import torch\n",
    "\n",
    "from torch import nn\n",
    "from torch import optim\n",
    "\n",
    "import matplotlib.pyplot as plt"
   ]
  },
  {
   "cell_type": "code",
   "execution_count": 2,
   "id": "1eb8324e-0945-4a78-aad3-9768811c1742",
   "metadata": {
    "scrolled": true,
    "tags": []
   },
   "outputs": [
    {
     "name": "stdout",
     "output_type": "stream",
     "text": [
      "torch.Size([4, 9])\n",
      "torch.Size([4, 1])\n",
      "torch.Size([8, 9])\n",
      "torch.Size([8, 1])\n"
     ]
    }
   ],
   "source": [
    "#----------------------------------------\n",
    "\n",
    "trainingSetX = torch.tensor([\n",
    "    [\n",
    "        [1, 1, 1],\n",
    "        [1, 0, 1],\n",
    "        [1, 1, 1]\n",
    "    ],\n",
    "    [\n",
    "        [0, 1, 0],\n",
    "        [1, 0, 1],\n",
    "        [0, 1, 0]\n",
    "    ],\n",
    "    [\n",
    "        [0, 1, 0],\n",
    "        [1, 1, 1],\n",
    "        [0, 1, 0]\n",
    "    ],\n",
    "    [\n",
    "        [1, 0, 1],\n",
    "        [0, 1, 0],\n",
    "        [1, 0, 1]\n",
    "    ]\n",
    "], dtype=torch.float).reshape(4, 9)\n",
    "\n",
    "#----------------------------------------\n",
    "\n",
    "trainingSetY = torch.tensor([\n",
    "    [0],\n",
    "    [0],\n",
    "    [1],\n",
    "    [1]\n",
    "], dtype=torch.float)\n",
    "\n",
    "#----------------------------------------\n",
    "\n",
    "testSetX = torch.tensor([\n",
    "    [\n",
    "        [0, 1, 1],\n",
    "        [1, 0, 1],\n",
    "        [1, 1, 0]\n",
    "    ],\n",
    "    [\n",
    "        [1, 0, 1],\n",
    "        [1, 0, 1],\n",
    "        [1, 1, 0]\n",
    "    ],\n",
    "    [\n",
    "        [1, 0, 1],\n",
    "        [0, 0, 0],\n",
    "        [1, 0, 1]\n",
    "    ],\n",
    "    [\n",
    "        [0, 1, 0],\n",
    "        [1, 0, 1],\n",
    "        [0, 1, 0]\n",
    "    ],\n",
    "    [\n",
    "        [1, 0, 0],\n",
    "        [1, 1, 1],\n",
    "        [0, 0, 1]\n",
    "    ],\n",
    "    [\n",
    "        [0, 0, 1],\n",
    "        [1, 1, 1],\n",
    "        [1, 0, 0]\n",
    "    ],\n",
    "    [\n",
    "        [0, 0, 0],\n",
    "        [1, 1, 1],\n",
    "        [0, 0, 0]\n",
    "    ],\n",
    "    [\n",
    "        [1, 0, 0],\n",
    "        [1, 1, 0],\n",
    "        [1, 0, 0]\n",
    "    ]\n",
    "], dtype=torch.float).reshape(8, 9)\n",
    "\n",
    "#----------------------------------------\n",
    "\n",
    "testSetY = torch.tensor([\n",
    "    [0],\n",
    "    [0],\n",
    "    [0],\n",
    "    [0],\n",
    "    [1],\n",
    "    [1],\n",
    "    [1],\n",
    "    [1]\n",
    "], dtype=torch.float)\n",
    "\n",
    "#----------------------------------------\n",
    "\n",
    "print(trainingSetX.shape)\n",
    "print(trainingSetY.shape)\n",
    "\n",
    "#----------------------------------------\n",
    "\n",
    "print(testSetX.shape)\n",
    "print(testSetY.shape)\n",
    "\n",
    "#----------------------------------------"
   ]
  },
  {
   "cell_type": "code",
   "execution_count": 3,
   "id": "54d0dfef",
   "metadata": {},
   "outputs": [
    {
     "name": "stdout",
     "output_type": "stream",
     "text": [
      "tensor([[1., 1., 1., 1., 0., 1., 1., 1., 1.],\n",
      "        [0., 1., 0., 1., 0., 1., 0., 1., 0.],\n",
      "        [0., 1., 0., 1., 1., 1., 0., 1., 0.],\n",
      "        [1., 0., 1., 0., 1., 0., 1., 0., 1.]])\n"
     ]
    }
   ],
   "source": [
    "print(trainingSetX)"
   ]
  },
  {
   "cell_type": "code",
   "execution_count": 7,
   "id": "b5e704c6-52d9-4f23-9632-f74bb5e260fa",
   "metadata": {
    "tags": []
   },
   "outputs": [
    {
     "name": "stdout",
     "output_type": "stream",
     "text": [
      "Using mps device\n"
     ]
    }
   ],
   "source": [
    "#----------------------------------------\n",
    "\n",
    "device = (\n",
    "\n",
    "    \"cuda\" if torch.cuda.is_available() else \"mps\" if torch.backends.mps.is_available() else \"cpu\"\n",
    "\n",
    ")\n",
    "\n",
    "#----------------------------------------\n",
    "\n",
    "print(f\"Using {device} device\")\n",
    "\n",
    "#----------------------------------------"
   ]
  },
  {
   "cell_type": "code",
   "execution_count": 8,
   "id": "ea2b0a79-fc5e-46de-bcd9-88eb8a3905ca",
   "metadata": {
    "tags": []
   },
   "outputs": [],
   "source": [
    "#----------------------------------------\n",
    "\n",
    "class CrossCircleDetector(nn.Module):\n",
    "    \n",
    "    def __init__(self, inputs, outputs):\n",
    "        \n",
    "        super().__init__()\n",
    "        \n",
    "        # Simple linear connections\n",
    "        self.inOut = nn.Linear(inputs, outputs)\n",
    "        \n",
    "        # Sigmoid squishification\n",
    "        self.sigmoid = nn.Sigmoid()\n",
    "\n",
    "    def forward(self, x):\n",
    "        \n",
    "        return self.sigmoid(self.inOut(x))\n",
    "\n",
    "#----------------------------------------"
   ]
  },
  {
   "cell_type": "code",
   "execution_count": 15,
   "id": "938df5ad-d5b6-4528-a105-72deac767561",
   "metadata": {
    "tags": []
   },
   "outputs": [
    {
     "name": "stdout",
     "output_type": "stream",
     "text": [
      "CrossCircleDetector(\n",
      "  (inOut): Linear(in_features=9, out_features=1, bias=True)\n",
      "  (sigmoid): Sigmoid()\n",
      ")\n"
     ]
    },
    {
     "data": {
      "image/png": "[encoded data removed]",
      "text/plain": [
       "<Figure size 640x480 with 1 Axes>"
      ]
     },
     "metadata": {},
     "output_type": "display_data"
    }
   ],
   "source": [
    "#----------------------------------------\n",
    "\n",
    "epochs = 1000\n",
    "\n",
    "learningRate = 0.1\n",
    "\n",
    "#----------------------------------------\n",
    "\n",
    "# Simplest possible network: 9 inputs and 1 output (binary: 0 when < 0.5 and 1 when > 0.5)\n",
    "model = CrossCircleDetector(9, 1)\n",
    "\n",
    "print(model)\n",
    "\n",
    "#----------------------------------------\n",
    "\n",
    "losses = []\n",
    "\n",
    "# Take binary cross entropy as loss function (one output interpreted as binary)\n",
    "lossFunction = nn.BCELoss()\n",
    "\n",
    "# Use stochastic gradient descent as optimizer, use weights and biases of model\n",
    "gradientDescent = torch.optim.SGD(model.parameters(), lr=learningRate)\n",
    "\n",
    "#----------------------------------------\n",
    "\n",
    "for i in range(epochs):\n",
    "    \n",
    "    for x, y in zip(trainingSetX, trainingSetY):\n",
    "    \n",
    "        # Reset the gradient delta's (dw, db)\n",
    "        gradientDescent.zero_grad()\n",
    "\n",
    "        # Forward step\n",
    "        yhat = model(x)\n",
    "\n",
    "        # Compute loss\n",
    "        loss = lossFunction(yhat, y)\n",
    "\n",
    "        # Keep track of loss\n",
    "        losses.append(loss.item())\n",
    "\n",
    "        # Apply gradient descent (via backpropagation)\n",
    "        loss.backward()\n",
    "\n",
    "        # Use w += -step * dw * learnRate\n",
    "        gradientDescent.step()\n",
    "\n",
    "#----------------------------------------\n",
    "\n",
    "fig, ax = plt.subplots()\n",
    "ax.set(xlabel='Epoch', ylabel='Cost', title=\"Training Cost\")\n",
    "\n",
    "plt.plot([x for x in range(4 * epochs)], losses, 'red')\n",
    "plt.show()\n",
    "\n",
    "#----------------------------------------"
   ]
  },
  {
   "cell_type": "code",
   "execution_count": 17,
   "id": "98feda4e-4716-4c1b-bfb8-140f0f2becf4",
   "metadata": {
    "tags": []
   },
   "outputs": [
    {
     "name": "stdout",
     "output_type": "stream",
     "text": [
      "actual: 0, predicted: 0.008374741300940514, rounded: 0\n",
      "actual: 0, predicted: 0.012495358474552631, rounded: 0\n",
      "actual: 0, predicted: 0.17408804595470428, rounded: 0\n",
      "actual: 0, predicted: 0.01701238378882408, rounded: 0\n",
      "actual: 1, predicted: 0.9937059283256531, rounded: 1\n",
      "actual: 1, predicted: 0.9963751435279846, rounded: 1\n",
      "actual: 1, predicted: 0.9982278943061829, rounded: 1\n",
      "actual: 1, predicted: 0.9986201524734497, rounded: 1\n"
     ]
    }
   ],
   "source": [
    "#----------------------------------------\n",
    "\n",
    "# Let's compare\n",
    "for x, y in zip(testSetX, testSetY):\n",
    "\n",
    "    print(f\"actual: {round(y.item())}, predicted: {model(x).item()}, rounded: {round(model(x).item())}\")\n",
    "    \n",
    "#----------------------------------------"
   ]
  }
 ],
 "metadata": {
  "kernelspec": {
   "display_name": "Python 3 (ipykernel)",
   "language": "python",
   "name": "python3"
  },
  "language_info": {
   "codemirror_mode": {
    "name": "ipython",
    "version": 3
   },
   "file_extension": ".py",
   "mimetype": "text/x-python",
   "name": "python",
   "nbconvert_exporter": "python",
   "pygments_lexer": "ipython3",
   "version": "3.11.0"
  }
 },
 "nbformat": 4,
 "nbformat_minor": 5
}
