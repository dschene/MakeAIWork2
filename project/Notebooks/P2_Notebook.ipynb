{
 "cells": [
  {
   "cell_type": "markdown",
   "id": "52478063",
   "metadata": {},
   "source": [
    "# Project  2 "
   ]
  },
  {
   "cell_type": "code",
   "execution_count": 1,
   "id": "04539e51",
   "metadata": {},
   "outputs": [],
   "source": [
    "import os\n",
    "import numpy as np\n",
    "import pickle\n",
    "import torch\n",
    "import pandas as pd\n",
    "\n",
    "from torch import nn\n",
    "import torch.optim as optim\n",
    "from torch.utils.data import DataLoader\n",
    "\n",
    "import matplotlib.pyplot as plt\n"
   ]
  },
  {
   "cell_type": "markdown",
   "id": "23d27ea6",
   "metadata": {},
   "source": [
    "Als eerste stap moeten we de gegenereerde data ophalen/inlezen:"
   ]
  },
  {
   "cell_type": "code",
   "execution_count": 2,
   "id": "b63ff72a",
   "metadata": {},
   "outputs": [],
   "source": [
    "#Sample data ophalen\n",
    "\n",
    "sonar_samples = pd.read_table('../simpylc/samples/sonar_samples', sep = \" \", header=None)\n",
    "\n",
    "lidar_samples = pd.read_table('../simpylc/samples/lidar_samples', sep = \" \", header=None)\n",
    "\n"
   ]
  },
  {
   "cell_type": "markdown",
   "id": "d2aa07de",
   "metadata": {},
   "source": [
    "Vervolgens kijken we naar de afmetingen van de datasets - dit zegt namelijk ook direct iets over het aantal input neuronen in de input-laag van ons toekomstige neural net. "
   ]
  },
  {
   "cell_type": "code",
   "execution_count": 3,
   "id": "7deb721c",
   "metadata": {},
   "outputs": [
    {
     "name": "stdout",
     "output_type": "stream",
     "text": [
      "Sonar data has shape (2993, 4)\n",
      "Lidar data has shape (5664, 17)\n"
     ]
    }
   ],
   "source": [
    "print(f\"Sonar data has shape {sonar_samples.shape}\")\n",
    "print(f\"Lidar data has shape {lidar_samples.shape}\")"
   ]
  },
  {
   "cell_type": "markdown",
   "id": "b5b0fb13",
   "metadata": {},
   "source": [
    "Hoe zien de datasets er uit? We inspecteren zowel de eerste als laatste 5 rijen:"
   ]
  },
  {
   "cell_type": "code",
   "execution_count": 4,
   "id": "f8b60571",
   "metadata": {},
   "outputs": [
    {
     "data": {
      "text/html": [
       "<div>\n",
       "<style scoped>\n",
       "    .dataframe tbody tr th:only-of-type {\n",
       "        vertical-align: middle;\n",
       "    }\n",
       "\n",
       "    .dataframe tbody tr th {\n",
       "        vertical-align: top;\n",
       "    }\n",
       "\n",
       "    .dataframe thead th {\n",
       "        text-align: right;\n",
       "    }\n",
       "</style>\n",
       "<table border=\"1\" class=\"dataframe\">\n",
       "  <thead>\n",
       "    <tr style=\"text-align: right;\">\n",
       "      <th></th>\n",
       "      <th>0</th>\n",
       "      <th>1</th>\n",
       "      <th>2</th>\n",
       "      <th>3</th>\n",
       "    </tr>\n",
       "  </thead>\n",
       "  <tbody>\n",
       "    <tr>\n",
       "      <th>0</th>\n",
       "      <td>1.4216</td>\n",
       "      <td>1.2448</td>\n",
       "      <td>1.7510</td>\n",
       "      <td>-22.0</td>\n",
       "    </tr>\n",
       "    <tr>\n",
       "      <th>1</th>\n",
       "      <td>1.4218</td>\n",
       "      <td>1.2450</td>\n",
       "      <td>1.7511</td>\n",
       "      <td>-22.0</td>\n",
       "    </tr>\n",
       "    <tr>\n",
       "      <th>2</th>\n",
       "      <td>1.4215</td>\n",
       "      <td>1.2448</td>\n",
       "      <td>1.7509</td>\n",
       "      <td>-22.0</td>\n",
       "    </tr>\n",
       "    <tr>\n",
       "      <th>3</th>\n",
       "      <td>1.4215</td>\n",
       "      <td>1.2448</td>\n",
       "      <td>1.7509</td>\n",
       "      <td>-22.0</td>\n",
       "    </tr>\n",
       "    <tr>\n",
       "      <th>4</th>\n",
       "      <td>1.4158</td>\n",
       "      <td>1.2402</td>\n",
       "      <td>1.7468</td>\n",
       "      <td>-22.0</td>\n",
       "    </tr>\n",
       "  </tbody>\n",
       "</table>\n",
       "</div>"
      ],
      "text/plain": [
       "        0       1       2     3\n",
       "0  1.4216  1.2448  1.7510 -22.0\n",
       "1  1.4218  1.2450  1.7511 -22.0\n",
       "2  1.4215  1.2448  1.7509 -22.0\n",
       "3  1.4215  1.2448  1.7509 -22.0\n",
       "4  1.4158  1.2402  1.7468 -22.0"
      ]
     },
     "execution_count": 4,
     "metadata": {},
     "output_type": "execute_result"
    }
   ],
   "source": [
    "sonar_samples.head()"
   ]
  },
  {
   "cell_type": "code",
   "execution_count": 5,
   "id": "724b03c0",
   "metadata": {},
   "outputs": [
    {
     "data": {
      "text/html": [
       "<div>\n",
       "<style scoped>\n",
       "    .dataframe tbody tr th:only-of-type {\n",
       "        vertical-align: middle;\n",
       "    }\n",
       "\n",
       "    .dataframe tbody tr th {\n",
       "        vertical-align: top;\n",
       "    }\n",
       "\n",
       "    .dataframe thead th {\n",
       "        text-align: right;\n",
       "    }\n",
       "</style>\n",
       "<table border=\"1\" class=\"dataframe\">\n",
       "  <thead>\n",
       "    <tr style=\"text-align: right;\">\n",
       "      <th></th>\n",
       "      <th>0</th>\n",
       "      <th>1</th>\n",
       "      <th>2</th>\n",
       "      <th>3</th>\n",
       "    </tr>\n",
       "  </thead>\n",
       "  <tbody>\n",
       "    <tr>\n",
       "      <th>2988</th>\n",
       "      <td>1.5485</td>\n",
       "      <td>1.7743</td>\n",
       "      <td>1.0869</td>\n",
       "      <td>22.0</td>\n",
       "    </tr>\n",
       "    <tr>\n",
       "      <th>2989</th>\n",
       "      <td>2.0917</td>\n",
       "      <td>1.1539</td>\n",
       "      <td>1.0575</td>\n",
       "      <td>0.0</td>\n",
       "    </tr>\n",
       "    <tr>\n",
       "      <th>2990</th>\n",
       "      <td>2.0632</td>\n",
       "      <td>1.1318</td>\n",
       "      <td>1.0445</td>\n",
       "      <td>0.0</td>\n",
       "    </tr>\n",
       "    <tr>\n",
       "      <th>2991</th>\n",
       "      <td>2.0632</td>\n",
       "      <td>1.1318</td>\n",
       "      <td>1.0445</td>\n",
       "      <td>0.0</td>\n",
       "    </tr>\n",
       "    <tr>\n",
       "      <th>2992</th>\n",
       "      <td>1.9847</td>\n",
       "      <td>1.6233</td>\n",
       "      <td>1.4057</td>\n",
       "      <td>0.0</td>\n",
       "    </tr>\n",
       "  </tbody>\n",
       "</table>\n",
       "</div>"
      ],
      "text/plain": [
       "           0       1       2     3\n",
       "2988  1.5485  1.7743  1.0869  22.0\n",
       "2989  2.0917  1.1539  1.0575   0.0\n",
       "2990  2.0632  1.1318  1.0445   0.0\n",
       "2991  2.0632  1.1318  1.0445   0.0\n",
       "2992  1.9847  1.6233  1.4057   0.0"
      ]
     },
     "execution_count": 5,
     "metadata": {},
     "output_type": "execute_result"
    }
   ],
   "source": [
    "sonar_samples.tail()"
   ]
  },
  {
   "cell_type": "markdown",
   "id": "e6b9a552",
   "metadata": {},
   "source": [
    "Hierboven zien we de data van de Sonar versie van de auto - na ook de broncode van de simulatie te hebben bekeken is het duidelijk geworden dat deze auto 3 \"sensoren\" heeft die per t (tijdsinterval) de omgeving scannen op pionnen en de afstand tot deze objecten meten. Aan de hand van deze input wordt er een stuurhoek berekend (de laatste kolom), waarbij de auto zichzelf dus corrigeert aan de hand van omgevingsdata, zodat deze geen pionnen raakt en/of van de uitgezette track af gaat. \n",
    "\n",
    "Voor de lidar data geldt in principe hetzelfde, alleen zien we hier dat er in plaats van 3 sensoren gebruik wordt gemaakt van 16 sensoren. Ook zien we weer de berekende stuurhoek in de laatste kolom:"
   ]
  },
  {
   "cell_type": "code",
   "execution_count": 6,
   "id": "ea4eb062",
   "metadata": {},
   "outputs": [
    {
     "data": {
      "text/html": [
       "<div>\n",
       "<style scoped>\n",
       "    .dataframe tbody tr th:only-of-type {\n",
       "        vertical-align: middle;\n",
       "    }\n",
       "\n",
       "    .dataframe tbody tr th {\n",
       "        vertical-align: top;\n",
       "    }\n",
       "\n",
       "    .dataframe thead th {\n",
       "        text-align: right;\n",
       "    }\n",
       "</style>\n",
       "<table border=\"1\" class=\"dataframe\">\n",
       "  <thead>\n",
       "    <tr style=\"text-align: right;\">\n",
       "      <th></th>\n",
       "      <th>0</th>\n",
       "      <th>1</th>\n",
       "      <th>2</th>\n",
       "      <th>3</th>\n",
       "      <th>4</th>\n",
       "      <th>5</th>\n",
       "      <th>6</th>\n",
       "      <th>7</th>\n",
       "      <th>8</th>\n",
       "      <th>9</th>\n",
       "      <th>10</th>\n",
       "      <th>11</th>\n",
       "      <th>12</th>\n",
       "      <th>13</th>\n",
       "      <th>14</th>\n",
       "      <th>15</th>\n",
       "      <th>16</th>\n",
       "    </tr>\n",
       "  </thead>\n",
       "  <tbody>\n",
       "    <tr>\n",
       "      <th>0</th>\n",
       "      <td>7.4374</td>\n",
       "      <td>6.8442</td>\n",
       "      <td>8.3839</td>\n",
       "      <td>10.2577</td>\n",
       "      <td>12.9285</td>\n",
       "      <td>11.2363</td>\n",
       "      <td>5.7409</td>\n",
       "      <td>5.8726</td>\n",
       "      <td>20.0</td>\n",
       "      <td>20.0</td>\n",
       "      <td>5.2446</td>\n",
       "      <td>2.7496</td>\n",
       "      <td>4.3012</td>\n",
       "      <td>5.5170</td>\n",
       "      <td>1.4444</td>\n",
       "      <td>6.4318</td>\n",
       "      <td>-32.0</td>\n",
       "    </tr>\n",
       "    <tr>\n",
       "      <th>1</th>\n",
       "      <td>7.4374</td>\n",
       "      <td>6.8442</td>\n",
       "      <td>8.3839</td>\n",
       "      <td>10.2577</td>\n",
       "      <td>12.9285</td>\n",
       "      <td>11.2363</td>\n",
       "      <td>5.7409</td>\n",
       "      <td>5.8726</td>\n",
       "      <td>20.0</td>\n",
       "      <td>20.0</td>\n",
       "      <td>5.2446</td>\n",
       "      <td>2.7496</td>\n",
       "      <td>4.3012</td>\n",
       "      <td>5.5170</td>\n",
       "      <td>1.4444</td>\n",
       "      <td>6.4318</td>\n",
       "      <td>-32.0</td>\n",
       "    </tr>\n",
       "    <tr>\n",
       "      <th>2</th>\n",
       "      <td>7.4382</td>\n",
       "      <td>6.8450</td>\n",
       "      <td>8.3846</td>\n",
       "      <td>10.2585</td>\n",
       "      <td>12.9292</td>\n",
       "      <td>11.2370</td>\n",
       "      <td>5.7415</td>\n",
       "      <td>5.8731</td>\n",
       "      <td>20.0</td>\n",
       "      <td>20.0</td>\n",
       "      <td>5.2451</td>\n",
       "      <td>2.7502</td>\n",
       "      <td>4.3018</td>\n",
       "      <td>5.5177</td>\n",
       "      <td>1.4452</td>\n",
       "      <td>6.4326</td>\n",
       "      <td>-32.0</td>\n",
       "    </tr>\n",
       "    <tr>\n",
       "      <th>3</th>\n",
       "      <td>7.4382</td>\n",
       "      <td>6.8450</td>\n",
       "      <td>8.3846</td>\n",
       "      <td>10.2585</td>\n",
       "      <td>12.9292</td>\n",
       "      <td>11.2370</td>\n",
       "      <td>5.7415</td>\n",
       "      <td>5.8731</td>\n",
       "      <td>20.0</td>\n",
       "      <td>20.0</td>\n",
       "      <td>5.2451</td>\n",
       "      <td>2.7502</td>\n",
       "      <td>4.3018</td>\n",
       "      <td>5.5177</td>\n",
       "      <td>1.4452</td>\n",
       "      <td>6.4326</td>\n",
       "      <td>-32.0</td>\n",
       "    </tr>\n",
       "    <tr>\n",
       "      <th>4</th>\n",
       "      <td>7.4357</td>\n",
       "      <td>6.8427</td>\n",
       "      <td>8.3825</td>\n",
       "      <td>10.2565</td>\n",
       "      <td>12.9275</td>\n",
       "      <td>11.2355</td>\n",
       "      <td>5.7402</td>\n",
       "      <td>5.8722</td>\n",
       "      <td>20.0</td>\n",
       "      <td>20.0</td>\n",
       "      <td>5.2430</td>\n",
       "      <td>2.7479</td>\n",
       "      <td>4.2994</td>\n",
       "      <td>5.5152</td>\n",
       "      <td>1.4426</td>\n",
       "      <td>6.4300</td>\n",
       "      <td>-32.0</td>\n",
       "    </tr>\n",
       "  </tbody>\n",
       "</table>\n",
       "</div>"
      ],
      "text/plain": [
       "       0       1       2        3        4        5       6       7     8   \\\n",
       "0  7.4374  6.8442  8.3839  10.2577  12.9285  11.2363  5.7409  5.8726  20.0   \n",
       "1  7.4374  6.8442  8.3839  10.2577  12.9285  11.2363  5.7409  5.8726  20.0   \n",
       "2  7.4382  6.8450  8.3846  10.2585  12.9292  11.2370  5.7415  5.8731  20.0   \n",
       "3  7.4382  6.8450  8.3846  10.2585  12.9292  11.2370  5.7415  5.8731  20.0   \n",
       "4  7.4357  6.8427  8.3825  10.2565  12.9275  11.2355  5.7402  5.8722  20.0   \n",
       "\n",
       "     9       10      11      12      13      14      15    16  \n",
       "0  20.0  5.2446  2.7496  4.3012  5.5170  1.4444  6.4318 -32.0  \n",
       "1  20.0  5.2446  2.7496  4.3012  5.5170  1.4444  6.4318 -32.0  \n",
       "2  20.0  5.2451  2.7502  4.3018  5.5177  1.4452  6.4326 -32.0  \n",
       "3  20.0  5.2451  2.7502  4.3018  5.5177  1.4452  6.4326 -32.0  \n",
       "4  20.0  5.2430  2.7479  4.2994  5.5152  1.4426  6.4300 -32.0  "
      ]
     },
     "execution_count": 6,
     "metadata": {},
     "output_type": "execute_result"
    }
   ],
   "source": [
    "lidar_samples.head()"
   ]
  },
  {
   "cell_type": "markdown",
   "id": "f88b76d9",
   "metadata": {},
   "source": [
    "## De opdracht"
   ]
  },
  {
   "cell_type": "markdown",
   "id": "3246ec31",
   "metadata": {},
   "source": [
    "Wat we in dit project uiteindelijk willen onderzoeken is het volgende: kunnen we met de bovenstaande data een neuraal netwerk trainen dat de juiste stuurhoek kan voorspellen aan de hand van de input, waarbij de \"juiste stuurhoek\" natuurlijk inhoudt dat de auto zichzelf, middels het neurale netwerk, netjes en veilig op de uitgezette baan houdt."
   ]
  },
  {
   "cell_type": "code",
   "execution_count": null,
   "id": "6427d940",
   "metadata": {},
   "outputs": [],
   "source": []
  },
  {
   "cell_type": "code",
   "execution_count": 7,
   "id": "0e21661d",
   "metadata": {},
   "outputs": [
    {
     "name": "stdout",
     "output_type": "stream",
     "text": [
      "tensor([-32.])\n"
     ]
    }
   ],
   "source": [
    "X_sonar = torch.Tensor(sonar_samples.iloc[:, :-1].to_numpy())\n",
    "Y_sonar = torch.Tensor(sonar_samples.iloc[:, -1:].to_numpy())\n",
    "\n",
    "X_lidar = torch.Tensor(lidar_samples.iloc[:, :-1].to_numpy())\n",
    "Y_lidar = torch.Tensor(lidar_samples.iloc[:, -1:].to_numpy())\n",
    "\n",
    "print(Y_lidar[0])"
   ]
  },
  {
   "cell_type": "code",
   "execution_count": 86,
   "id": "9867d3d6",
   "metadata": {},
   "outputs": [
    {
     "name": "stdout",
     "output_type": "stream",
     "text": [
      "tensor([[ 5.7334,  3.9319,  5.7328,  ...,  7.4159,  1.8597,  5.3830],\n",
      "        [ 3.4115,  6.7187,  7.3649,  ..., 20.0000,  1.3428,  4.8275],\n",
      "        [20.0000, 20.0000, 20.0000,  ..., 20.0000,  1.0134, 20.0000],\n",
      "        ...,\n",
      "        [ 4.6311,  6.7743,  2.7975,  ..., 20.0000, 20.0000, 20.0000],\n",
      "        [ 3.9008,  4.1369,  2.1040,  ..., 20.0000, 20.0000, 20.0000],\n",
      "        [ 1.9244,  5.3698, 20.0000,  ...,  3.2697, 20.0000, 20.0000]]) tensor([[-33.0000],\n",
      "        [  1.0000],\n",
      "        [ 13.5000],\n",
      "        [ -9.0000],\n",
      "        [  6.5000],\n",
      "        [  1.5000],\n",
      "        [  1.0000],\n",
      "        [  6.5000],\n",
      "        [  0.0000],\n",
      "        [ 11.5000],\n",
      "        [ -1.5000],\n",
      "        [  0.0000],\n",
      "        [ -9.0000],\n",
      "        [  0.5000],\n",
      "        [  3.0000],\n",
      "        [  0.5000],\n",
      "        [  7.0000],\n",
      "        [ 25.5000],\n",
      "        [ 13.0000],\n",
      "        [  2.5000],\n",
      "        [ 10.5000],\n",
      "        [-22.5000],\n",
      "        [  5.0000],\n",
      "        [  0.5000],\n",
      "        [ -3.0000],\n",
      "        [  9.0000],\n",
      "        [ 29.5000],\n",
      "        [-22.0000],\n",
      "        [ 18.0000],\n",
      "        [ -3.5000],\n",
      "        [  1.0000],\n",
      "        [ 27.0000],\n",
      "        [-12.5000],\n",
      "        [  1.0000],\n",
      "        [-31.5000],\n",
      "        [ 23.0000],\n",
      "        [  1.0000],\n",
      "        [-31.0000],\n",
      "        [  7.5000],\n",
      "        [ -0.5000],\n",
      "        [  0.5000],\n",
      "        [-12.0000],\n",
      "        [  8.5000],\n",
      "        [-12.5000],\n",
      "        [-15.5000],\n",
      "        [  0.5000],\n",
      "        [  1.5000],\n",
      "        [ -7.5000],\n",
      "        [-13.5000],\n",
      "        [  2.0000],\n",
      "        [ 26.5000],\n",
      "        [ 19.5000],\n",
      "        [ -6.0000],\n",
      "        [  2.5000],\n",
      "        [ 15.5000],\n",
      "        [ -7.5000],\n",
      "        [-11.0000],\n",
      "        [ -9.5000],\n",
      "        [ -1.0000],\n",
      "        [ -0.5000],\n",
      "        [ 12.0000],\n",
      "        [  8.5000],\n",
      "        [ -8.5000],\n",
      "        [ -4.0000],\n",
      "        [  3.5000],\n",
      "        [-16.5000],\n",
      "        [ 52.0000],\n",
      "        [ 17.5000],\n",
      "        [  7.5000],\n",
      "        [  3.0000],\n",
      "        [-43.0000],\n",
      "        [ 21.0000],\n",
      "        [ -1.0000],\n",
      "        [-13.0000],\n",
      "        [  8.0000],\n",
      "        [  3.0000],\n",
      "        [  2.0000],\n",
      "        [  3.5000],\n",
      "        [-16.5000],\n",
      "        [ -5.0000],\n",
      "        [ 27.0000],\n",
      "        [ 15.0000],\n",
      "        [-41.5000],\n",
      "        [ 14.5000],\n",
      "        [-21.0000],\n",
      "        [  9.5000],\n",
      "        [  7.5000],\n",
      "        [  8.5000],\n",
      "        [ 13.0000],\n",
      "        [  9.5000],\n",
      "        [  0.0000],\n",
      "        [ 34.5000],\n",
      "        [ -1.5000],\n",
      "        [  9.5000],\n",
      "        [  0.5000],\n",
      "        [  0.5000],\n",
      "        [ 23.0000],\n",
      "        [ -3.5000],\n",
      "        [  3.0000],\n",
      "        [  0.5000]])\n"
     ]
    }
   ],
   "source": [
    "# Dataloader van de lidar dataset\n",
    "loader = DataLoader(list(zip(X_lidar, Y_lidar)), shuffle=True, batch_size=100)\n",
    "\n",
    "for X_batch, y_batch in loader:\n",
    "    print(X_batch, y_batch)\n",
    "    break"
   ]
  },
  {
   "cell_type": "code",
   "execution_count": 87,
   "id": "bd2c9392",
   "metadata": {},
   "outputs": [
    {
     "name": "stdout",
     "output_type": "stream",
     "text": [
      "Using mps device\n"
     ]
    }
   ],
   "source": [
    "device = (\n",
    "\n",
    "\"cuda\" if torch.cuda.is_available() else \"mps\" if torch.backends.mps.is_available() else \"cpu\")\n",
    "\n",
    "print(f\"Using {device} device\")"
   ]
  },
  {
   "cell_type": "code",
   "execution_count": 88,
   "id": "c54d863b",
   "metadata": {},
   "outputs": [],
   "source": [
    "class lidar_sweep_2(nn.Module):\n",
    "\n",
    "    def __init__(self, inputs_size, hidden1_size, hidden2_size, hidden3_size, outputs_size):\n",
    "        super().__init__()\n",
    "\n",
    "        self.model = nn.Sequential(\n",
    "                nn.Linear(inputs_size, hidden1_size),\n",
    "                nn.ReLU(),\n",
    "                nn.Linear(hidden1_size, hidden2_size),\n",
    "                nn.ReLU(),\n",
    "                nn.Linear(hidden2_size, hidden3_size),\n",
    "                nn.ReLU(),\n",
    "                nn.Linear(hidden3_size, outputs_size),\n",
    "                                    )\n",
    "        \n",
    "    def forward(self, x):\n",
    "        \n",
    "        return self.model(x)"
   ]
  },
  {
   "cell_type": "code",
   "execution_count": 89,
   "id": "5ee61e6e",
   "metadata": {},
   "outputs": [],
   "source": [
    "model_1 = lidar_sweep_2(16, 64, 64, 128, 1)\n",
    "\n",
    "\n",
    "learning_rate = 0.000075\n",
    "\n",
    "loss_function = nn.MSELoss()\n",
    "gradientDescent = torch.optim.SGD(model_1.parameters(), lr=learning_rate)"
   ]
  },
  {
   "cell_type": "code",
   "execution_count": 96,
   "id": "5dcc5216",
   "metadata": {},
   "outputs": [],
   "source": [
    "model_1 = lidar_sweep_2(16, 128, 64, 128, 1)\n",
    "\n",
    "\n",
    "learning_rate = 0.0001\n",
    "\n",
    "loss_function = nn.MSELoss()\n",
    "gradientDescent = torch.optim.SGD(model_1.parameters(), lr=learning_rate)\n",
    "\n",
    "epochs = 1000\n",
    "losses = []\n",
    "\n",
    "model_1.train()\n",
    "\n",
    "for i in range(epochs):\n",
    "    \n",
    "    epoch_loss = []\n",
    "    \n",
    "    for x_batch, y_batch in loader:\n",
    "        \n",
    "        gradientDescent.zero_grad()\n",
    "        \n",
    "        y_pred = model_1(x_batch)\n",
    "        \n",
    "        loss = loss_function(y_pred, y_batch)\n",
    "    \n",
    "        loss.backward()\n",
    "        \n",
    "        gradientDescent.step()\n",
    "        \n",
    "        epoch_loss.append(loss.item())\n",
    "        \n",
    "        \n",
    "    losses.append(sum(epoch_loss) / len(loader))\n",
    "\n",
    "#losses = [loss.detach().numpy() for loss in losses]\n",
    "        "
   ]
  },
  {
   "cell_type": "code",
   "execution_count": 97,
   "id": "dd09e316",
   "metadata": {
    "scrolled": true
   },
   "outputs": [
    {
     "data": {
      "image/png": "[encoded data removed]",
      "text/plain": [
       "<Figure size 640x480 with 1 Axes>"
      ]
     },
     "metadata": {},
     "output_type": "display_data"
    }
   ],
   "source": [
    "fig, ax = plt.subplots()\n",
    "ax.set(xlabel='Epoch', ylabel='Cost', title=\"Training Cost\")\n",
    "\n",
    "plt.plot([x for x in range(len(losses))], losses, 'red')\n",
    "plt.show()"
   ]
  },
  {
   "cell_type": "code",
   "execution_count": 98,
   "id": "ba1c3323",
   "metadata": {},
   "outputs": [
    {
     "name": "stdout",
     "output_type": "stream",
     "text": [
      "[189.69965349163925, 178.9131338554516, 169.22391898171944, 158.39633366099577, 149.62838249875787, 142.69146514357183, 137.0222052858587, 131.41123667934485, 124.17059526945415, 118.78149721915261, 111.82794403611568, 107.36116081371642, 102.39395315605297, 98.62937351695278, 95.83459338807224, 94.35899446721663, 92.86185555709035, 89.85370789912709, 87.32592037267852, 85.03168561165793, 86.16779427779348, 83.87405455739875, 81.57139707866467, 83.65014889365749, 80.83345808062637, 79.71494748299583, 81.52633887843082, 77.55471821835167, 76.30773571081329, 80.75025270696273, 74.95182110970481, 76.06710420575058, 74.65128520497105, 74.2864556563528, 73.95943899321975, 73.42412613985832, 71.93482937729149, 71.2999626293517, 71.92316697773181, 71.15241120990954, 70.31160923472622, 70.32739880210475, 69.69059934114155, 66.90183097437809, 67.47733788741262, 64.7397481014854, 66.24527459395559, 63.78409529568856, 65.05816904703777, 64.53572544298675, 64.03273833425422, 63.01834113137764, 62.211485143293416, 62.465742211592826, 61.15001082838627, 62.41663327133446, 60.68451690673828, 59.094144453082166, 59.79073581360934, 57.01797384964792, 58.693276589376886, 57.83565079538446, 59.2559151900442, 55.15183810183876, 55.143024578429106, 52.55654860379403, 54.357222306100944, 52.81833066438374, 56.39822595161304, 55.320603588171174, 55.15668487548828, 49.931221543696886, 49.02843850119072, 50.95772090711092, 51.64160551104629, 49.370389101798075, 50.66914812723795, 50.48745479918363, 50.159020373695775, 48.75245248225697, 47.09404988874469, 49.43904033460115, 45.14193688777455, 46.94967671444542, 46.25414627476742, 47.80453277052494, 44.43978948760451, 42.069839243303264, 47.12686428270842, 40.97025382727907, 43.74638801708556, 43.54845736319559, 43.26109879476982, 42.44854883562054, 43.34956875182035, 40.41990802162572, 39.25761758235463, 40.02195508856522, 40.119540900514835, 37.2865548384817, 42.084448864585475, 40.0753430483634, 41.77088379441646, 38.52733394555878, 37.78845706738924, 35.319785268683184, 38.07967246206183, 38.202799211468616, 37.845120881733145, 34.17304604513603, 36.336809275443095, 35.789682154069865, 33.92673843785336, 34.29325167338053, 33.026346457631966, 38.5116093618828, 33.781553519399544, 36.315009435017906, 35.10092966180099, 34.21618746038069, 32.53744239137884, 29.738615738718135, 32.390916188557945, 33.13627219618412, 35.8185888256943, 30.877905092741315, 28.775859782570286, 34.7433886778982, 28.04459406200208, 34.453324150620844, 30.680839772810018, 30.36404167978387, 30.47980308532715, 29.624599941989832, 30.728412661636085, 30.510005231489217, 29.512383176569355, 28.648066754926717, 30.33295705025656, 24.328019593891344, 29.16155405211867, 29.195062620597973, 26.670829521982295, 25.602243490386428, 30.815899079306085, 25.780883471171062, 25.82827959562603, 26.279494051347697, 27.18179726182369, 25.54030051984285, 25.665522290949237, 23.94392060396964, 28.92910721427516, 24.60507990184583, 25.331634220324066, 23.03401207505611, 25.284306609839724, 26.629224526254756, 24.192238908064994, 21.904936941046465, 27.977351004617255, 20.847148175825154, 23.55339354799505, 24.661315081412333, 21.229565704078006, 22.063764270983246, 26.432050186291075, 22.21899812263355, 21.710815396225243, 23.748546332643745, 20.755336945517023, 21.43876564293577, 21.84097927495053, 22.421928857502184, 19.268621394508763, 21.749682142023456, 18.94482902058384, 25.258238081346477, 19.2364758608634, 23.071199316727487, 21.007886920058937, 18.0798150447377, 18.686961893449748, 20.267170203359502, 20.583030566834566, 18.520579773083067, 19.007098524194014, 22.440643009386566, 21.78798332548978, 18.108344278837507, 19.89724999143366, 17.851272549545556, 20.466183687511244, 17.056760536996944, 19.949822258531, 19.663054198549506, 17.518469208165218, 19.828730114719324, 17.4123821007578, 15.523322289450126, 21.001343208446837, 16.001761620504816, 16.410877554040205, 15.976650924013372, 16.1017388209962, 17.297913685179594, 14.262120322177285, 19.145730989021168, 17.805568168037816, 16.767675282662374, 13.722331498798571, 14.355473602027224, 15.131718075066281, 14.790502238691898, 16.924563023081998, 16.974210069890606, 14.054111463981762, 16.20361241959689, 14.47630112631279, 16.74324878056844, 14.988310203217624, 15.373611517119826, 13.229193126946164, 12.957432788715028, 17.20727201093707, 15.332108966091223, 16.145514387833444, 14.798962032585813, 11.684185153559634, 13.978228661051968, 14.537398313221178, 13.488424627404465, 14.163594045137105, 13.512777136083235, 12.94574122679861, 15.191653360400284, 13.793492936251456, 15.298467008691086, 13.286645964572305, 12.915545304616293, 12.834336757659912, 11.110550905528822, 16.085232140725118, 10.871875361392373, 13.221153008310418, 9.707882069704825, 11.318642607906408, 16.149281577060098, 11.400186045128002, 11.761886747259842, 12.021941812414871, 11.349660706101803, 12.297778045921994, 11.990396265397992, 11.75032279365941, 12.349692762943736, 14.297504684381318, 10.846866423623604, 11.61700211073223, 10.543524809050979, 11.19588571682311, 11.58973945651138, 11.6634168373911, 11.257053358513012, 9.99136606015657, 14.414899349212646, 10.288247936650327, 9.816869618599874, 11.169336820903577, 10.06893359150803, 11.049993891465036, 9.535828824628863, 13.919754454964085, 11.10975252118027, 10.419923573209529, 8.727801992182146, 12.186779030582361, 9.177798806575307, 9.330363039384808, 9.889367760273448, 10.756418504213032, 10.621234115801359, 9.351667592399998, 10.172687589076528, 11.509470487895765, 9.331924756368002, 9.091718414373565, 11.148673024093895, 7.690508169040346, 9.98431318684628, 7.456889528977244, 11.130308536061069, 8.549399158410859, 10.16007197530646, 11.122255166371664, 8.83936149195621, 12.131553419849329, 9.022718634521752, 11.039453740705524, 10.64818561286257, 7.896181177674678, 9.101254316798428, 10.25312512381035, 7.219540345041375, 8.608034380695276, 10.477618526994137, 10.593394768865485, 8.063149669714141, 12.190171400705973, 7.398663558458027, 8.060577794125205, 8.03717897649397, 8.61107679835537, 8.255666452541686, 8.668650233954715, 10.256425577297545, 7.495705997734739, 11.26238138633862, 7.652924792808399, 8.259539411779036, 8.542055468810233, 6.814206675479286, 8.037964883603548, 7.4280759911788135, 9.26606085425929, 7.467248172090764, 7.828002055486043, 8.95700460567809, 6.231371959050496, 8.089664718561005, 8.924440739447611, 7.573906141414977, 6.064808657294826, 6.382922143266912, 8.601449481227942, 8.393574108157242, 7.9425227600231505, 7.0085377191242415, 6.857773337447853, 10.349660906875343, 6.699545684613679, 7.314266547822116, 7.869460001326444, 6.946952836555347, 6.71325059104384, 9.352327739983274, 8.183802048365274, 7.846149816847684, 7.848596510134246, 6.736067646428158, 7.0312806012337665, 7.13675716467071, 7.705731212047109, 6.168891429901123, 6.1898238868044135, 7.268878710897345, 10.315214165470056, 6.309800557922899, 5.3813961848878025, 6.4789931146722095, 8.575162138855248, 6.542579366449724, 9.159242793133384, 6.67231886010421, 4.9801917243422125, 8.69060528905768, 7.061632490994637, 5.955864053023489, 5.409173145628812, 6.6367962527693365, 7.2076876456277414, 4.942014694213867, 4.71761855744479, 8.356393094648395, 6.120764987510547, 6.362345471716764, 6.543348186894467, 6.646452000266628, 5.2608776385324045, 7.6591857127975995, 4.781352808600978, 6.745925874040838, 5.723968581149452, 6.061736186345418, 7.788039006684956, 5.7709296711704186, 7.155537082437883, 4.417414815802323, 5.507051014063651, 5.057368010805364, 5.3908708011894895, 7.5944254649312875, 7.098450351179692, 5.526101348692911, 6.680077561160974, 8.636297763439647, 5.764251265609474, 5.6049258959920785, 5.032785474208364, 4.804183702719839, 6.919467346710071, 5.237306791439391, 5.750259043877585, 5.191550993082816, 4.677485564298797, 6.135489764966462, 6.279643364119948, 5.1595491024485804, 6.348801692326863, 6.6148038537878735, 4.3993449587571, 5.6912438116575546, 6.285406062477513, 6.196984784644947, 4.611637596498456, 4.971488028241877, 4.915959931256478, 7.843647132840073, 4.217505726897926, 5.388288757257294, 6.761047530592534, 5.566998782910798, 4.808157450274417, 5.598563466155738, 4.363836169242859, 5.55880205673084, 4.463737901888396, 7.152136225449412, 4.453577225668388, 5.357969284057617, 4.971012289063973, 3.9047421739812482, 7.839931354188082, 4.305392907376875, 6.751148487392225, 5.984689398815758, 6.361922895699217, 4.130951488227175, 5.142710229806733, 5.495941429807429, 3.9248647187885486, 5.63046159451468, 4.416676272425735, 4.374476290585702, 4.821445941925049, 4.134314503586083, 4.916024195520501, 4.178740070577254, 3.522531584689492, 5.852950405656245, 4.427969123187818, 6.68455712000529, 4.1393895442025705, 4.7539215757135755, 6.130688428878784, 3.8802048888122824, 5.197310711208143, 3.6707803701099597, 4.620402254556355, 4.922638397467764, 3.8903178415800395, 6.456890049733613, 3.4699844979403314, 5.22718258071364, 5.707519098332054, 3.331695891263192, 3.1028226258461937, 5.46143667112317, 4.048406634414405, 6.584473683123003, 4.543298984828748, 3.8689072383077523, 5.768516990176418, 4.345284974365904, 3.5589493366709926, 5.508477058326989, 3.8317263691048873, 4.960975289344788, 3.4721371081837438, 3.3441471279713144, 6.304035397998073, 4.883229770158467, 3.1710084279378257, 3.8568057051876137, 5.176615926257351, 3.9914809925514354, 4.370543657687673, 7.21574143986953, 4.235316956252382, 4.286737379274871, 4.179128258897547, 5.475576340106496, 6.203056138858461, 4.751531686699181, 3.081300735473633, 5.317686879843996, 3.513157888462669, 3.83170453498238, 3.02851196548395, 4.365294952141611, 5.621993830329494, 4.536232249778614, 3.885356905167563, 2.767990461566992, 4.55237258735456, 4.087036975643091, 3.7722343875650775, 3.812084586996781, 3.8751090430376824, 3.0670227397952163, 2.8369270793178627, 4.42814418516661, 3.7034749838343837, 4.341252370884544, 3.258244566750108, 3.9713633583303083, 3.783199011233815, 3.807604982141863, 3.8116348584493003, 4.327808564169365, 3.8953295841551663, 4.965949646213598, 3.22492820338199, 3.0419795805947825, 2.9263176938943696, 4.550506652447215, 4.84148487291838, 3.148217531672695, 3.773956535155313, 3.2891015148999396, 2.8239962761862234, 4.76017391472532, 3.4508929022571495, 4.041704140211406, 3.232983423952471, 3.408292032124703, 3.265911050010146, 5.100864860049465, 3.635287358049761, 3.994618254795409, 2.8326324600922432, 3.560684743680452, 5.709352495377524, 4.173865797226889, 3.4410941391660455, 4.1837728734602, 3.6950092713038125, 4.343681624061183, 3.9454350032304464, 2.6681778598250006, 2.7325192313445243, 2.95388560755211, 3.678951206960176, 3.2546525127009343, 3.6737130964011477, 5.240550503396151, 2.7158817993967155, 3.634277477599027, 2.5867855862567297, 3.454044982006675, 3.716501804820278, 3.4935183336860254, 4.826149649787367, 3.107090533825389, 3.0409391647890995, 3.336032748222351, 3.116157383249517, 4.585136365472224, 2.6299474626256707, 3.0663270469297443, 5.882072852368941, 3.053007276434647, 2.9252189816090097, 2.7088676544657924, 4.081030197310866, 2.92254211296115, 3.2735685632939924, 3.1182264424206916, 2.6580484038905094, 6.555195889974895, 2.5240533958401596, 3.518123850487826, 2.4737581056461, 2.5350131883955838, 3.527718472899052, 2.6244920596741794, 2.9951985342460765, 2.219963819311376, 2.6019033193588257, 5.12532279156802, 2.952581969269535, 2.9278004817795336, 3.1078316705268727, 4.138501470549064, 3.052849861613491, 4.84103282501823, 2.3219065561629177, 2.9571460464544463, 2.497179332532381, 3.194538394610087, 3.7492631882951972, 2.6890373397291754, 4.849250927306058, 3.318001307939228, 2.8688278177328277, 3.178908299981502, 4.063615453870673, 2.356343556914413, 4.646427564453661, 2.2481745471034134, 2.4380142019506086, 2.8497936746530366, 2.161499930055518, 2.4297691144441305, 2.7573248963606987, 2.978999278001618, 3.6251445381264937, 3.0864098239363287, 3.87380237746657, 3.96095479580394, 3.1041916692466067, 3.486010875618249, 2.36871329943339, 2.9182038349017763, 2.3323627689428497, 2.9597694058167305, 3.3140533158653662, 2.8778255027637147, 2.425195988855864, 2.285082836945852, 4.201118630275392, 3.1084745536770737, 2.753742520223584, 2.8190092726757654, 2.6471080257181536, 1.9844446663270916, 3.1611518587982443, 3.530336679073802, 3.5511717001597085, 2.6412059842494497, 2.1248948636807894, 2.707994144213827, 2.170312267646455, 4.113827588265402, 2.683887343657644, 3.094506301377949, 2.431527360489494, 3.6260188797063995, 2.143279657029269, 5.844098590967948, 2.1603131712528696, 2.4370897506412708, 2.1983925501505532, 3.118435329512546, 2.951278289159139, 3.114188197411989, 2.615198123350478, 2.7003563203309713, 2.1845221561298036, 4.272278541012814, 2.1192941602907682, 2.369816289659132, 5.442007029265688, 3.502997958869265, 2.5721786398636666, 2.847949465115865, 2.7985589985261883, 2.458996311614388, 3.3823083994681373, 2.2634131500595496, 2.530632838868258, 2.265748685912082, 2.6909482050360296, 2.5483790500122203, 2.226610361484059, 1.9603487493699057, 3.131759756489804, 3.0513065300489726, 2.26163183178818, 2.7020894017135886, 2.363316779596764, 2.0980455927681505, 2.540342922796283, 2.1470134279184174, 2.025246206082796, 5.60704093021259, 1.9176874767270005, 2.944339576520418, 2.292078669656787, 2.414088201104549, 2.361809253692627, 2.7918111284573874, 2.755071300163604, 1.8105186642261974, 1.7667192241601777, 3.5362632839303267, 2.0336961411593255, 2.280753879170669, 2.9092236025291576, 2.700710065532149, 2.1488860280890214, 2.334394053408974, 2.3091940074636224, 1.9748154094344692, 3.5356841003685666, 2.9058214352841962, 1.8594501154464589, 1.7237879592075682, 2.489223917325338, 2.424195805139709, 3.0609279588649145, 2.6157135116426566, 2.014466908940098, 3.852953483138168, 2.7746816131106593, 3.159118602150365, 2.830103830287331, 2.5383363115160087, 2.114695099362156, 1.8236548126789562, 2.508408653108697, 3.630279438537464, 2.484457610991963, 1.9884073106866134, 2.0873886984691286, 2.6322659986060963, 1.7378114148190147, 2.191597385364666, 2.2625201354947007, 1.8671262692986874, 3.0171923375966254, 2.848258632316924, 1.9675585721668445, 2.318996773477186, 3.682578862759105, 2.4109051175284804, 1.705222863900034, 2.96269624902491, 2.9543784720855846, 2.1616861454227516, 2.626762654697686, 2.1197636190213656, 2.2939714193344116, 1.9774468478403593, 2.687497481965182, 3.9376726192340517, 1.7999472733129536, 2.00119233758826, 2.22324547328447, 2.265107546982012, 2.097451489222677, 2.287660661496614, 2.0932609606207464, 1.987068329986773, 1.6779587446597584, 1.8232962049935992, 1.9030663967132568, 2.773544849010936, 2.1150338670663666, 1.7297459725748028, 3.1113291089994863, 3.1001613004165782, 2.747612214924996, 1.7456955951556825, 1.9130725996536122, 2.884224249605547, 1.9537350451737119, 2.55722255037542, 2.242657511903529, 1.84105430360426, 1.7784142745168585, 1.7487806416394418, 2.4685901947188795, 2.6482874656978406, 2.6086863948587786, 1.7265098136768007, 1.9573750454082823, 3.0372331602531566, 1.802512616441961, 3.0534188140902603, 2.3571169982876694, 3.715201015012306, 2.7021486319993673, 1.6571705749160366, 1.9766826838777776, 1.865684909778729, 3.0451781394188866, 1.6486839934399253, 3.322418101001204, 2.7387543226543225, 1.8331146355260883, 2.3201276837733755, 1.7178140167604412, 1.6154573099655019, 1.6697865274914525, 1.8297262557765894, 2.382408491352148, 1.709340654967124, 1.6714016387337132, 3.0406713443889952, 4.283275862534841, 1.8473938452570062, 1.766630048291725, 1.9191275542242485, 1.6092206396554645, 4.3845515146590115, 1.7498748678910105, 1.9065182742319609, 1.852551596206531, 1.7307766194929157, 1.7141987399051064, 1.6116578882200676, 2.1654051803705987, 1.7540265551784582, 2.4107986657243026, 2.1153397089556645, 1.570972672679968, 2.044801214285064, 2.1992686641843697, 2.004096980680499, 1.986342634025373, 2.046859501746663, 1.9268262825514142, 3.5847941156019245, 2.0187674468023733, 1.979271348108325, 2.2490606945857667, 1.7680011715805322, 1.9732605428026433, 1.5964567849510594, 1.7555478497555381, 2.097533389141685, 2.4685764961075365, 1.7453523022040986, 2.19371692862427, 1.8436954335162514, 1.997713383875395, 2.8225167215916147, 1.5080993646069576, 1.5546186733664127, 2.3114369459319533, 1.7922205611279136, 2.9266900639784965, 1.8405737782779492, 1.7541694222835071, 1.639299828755228, 2.1111510050924203, 2.120071291923523, 1.5918569857614082, 1.7377837687207942, 1.7871189462511163, 2.3916287809087518, 1.5556106358243709, 1.8104480954638698, 2.838073636356153, 1.5086904037417026, 1.4076815603072184, 1.3357685124664975, 2.241044644723859, 1.6902605221982587, 2.1083674587701497, 2.8137009562107553, 1.3639402107188576, 1.9558436650978892, 2.231113771597544, 1.6533547430707698, 1.5937498786993194, 1.7746053306679976, 1.4376272470281835, 1.3020378853145398, 2.1151190473322283, 1.3020510819920323, 1.4908694091596102, 1.8032984555813305, 1.4779107947098582, 1.5640725660742374, 1.8421970480366756, 1.595612413004825, 1.6696315982885528, 1.8788046136237027, 2.4906735587538336, 1.6872453208555256, 2.0369178527279903, 1.5724302268864816, 1.8621707182181508, 3.490920060559323, 1.67753852773131, 1.8452155715540837, 1.7457115352153778, 2.3762757955935965, 2.3441388627939057, 1.5028360276891475, 2.4821799115130774, 2.231463486688179, 1.839738507019846, 1.5160941251537257, 1.772214688752827, 1.3472780846712882, 1.280950551493126, 1.4993664465452496, 1.5046515569352268, 1.7288056246021337, 2.047778229441559, 1.309351152495334, 1.8149446322206866, 1.4433904786904652, 1.5880713567399143, 1.1988932673345531, 2.0116948569030093, 4.200126336331953, 2.4508269240981653, 1.6934282361415394, 1.5945166652662712, 2.1267405915678594, 1.5662605752024734, 1.6654309483996608, 2.1478146649243537, 1.6142856363664593, 1.65547163653792, 1.4109302257236682, 1.429416456766296, 1.3538142918494709, 1.7168953491930377, 1.3830418220737524, 2.1502672663906166, 1.316899625878585, 1.301846510485599, 1.253671473578403, 3.1263019013823126, 2.1649887906877616, 1.8043535790945355, 2.1190716174610875, 2.7435144321960316, 2.024181300087979, 1.5330536386422944, 1.6864578190602755, 1.6654801452369021, 2.212843929989296, 1.557997999484079, 5.280535519123077, 1.5592950791643376, 1.435382160178402, 2.1735374080507377, 1.5024124697635048, 1.2145047579940997, 1.3904703709117152, 1.223966270685196, 1.2472507483080815, 1.2982208739247239, 1.759602079265996, 1.5807397595623083, 1.8192749744967411, 1.8784407628209967, 1.9115969130867405, 2.1537230893185266, 1.3927057469100284, 1.5451441051667196, 3.488399983498088, 1.2346236303187252, 1.1616180915581553, 1.9986422563854016, 1.9938878657525045, 1.5017618416694172, 1.9766744783050136, 2.330849576414677, 1.6609358515655785, 1.6355903096366347, 1.434639411014423, 1.4542774155474545, 1.4749751242629268, 1.4649131883654678, 1.1785332110890172, 1.6882871242991664, 1.2654170969076324, 1.732764981294933, 2.608436666036907, 1.3965105393476653, 2.476159724227169, 1.8359101864329554, 1.1816946989611576, 1.6045647524950797, 1.635735770066579, 1.3245308890677334, 1.3193789527081607, 1.1901685104035495, 2.4992213834796035, 3.026637370126289, 2.3023981849352517, 2.5537291848868655, 1.2913851581121747, 1.593024772510194, 1.3424263251455206, 1.6055592789984585, 1.2173074776666206, 2.5186983346939087, 1.507665845385769, 1.271201187058499, 1.5936435628355594, 1.264297324314452, 1.2504144922683114]\n"
     ]
    }
   ],
   "source": [
    "print(losses)"
   ]
  },
  {
   "cell_type": "code",
   "execution_count": 99,
   "id": "bd6c51de",
   "metadata": {},
   "outputs": [],
   "source": [
    "pickle.dump(model_1.model, open('model_1.pkl', 'wb'))"
   ]
  },
  {
   "cell_type": "code",
   "execution_count": null,
   "id": "6ca9dbdb",
   "metadata": {},
   "outputs": [],
   "source": []
  },
  {
   "cell_type": "code",
   "execution_count": null,
   "id": "e96b940d",
   "metadata": {},
   "outputs": [],
   "source": []
  },
  {
   "cell_type": "code",
   "execution_count": null,
   "id": "511ec03c",
   "metadata": {},
   "outputs": [],
   "source": []
  }
 ],
 "metadata": {
  "kernelspec": {
   "display_name": "Python 3 (ipykernel)",
   "language": "python",
   "name": "python3"
  },
  "language_info": {
   "codemirror_mode": {
    "name": "ipython",
    "version": 3
   },
   "file_extension": ".py",
   "mimetype": "text/x-python",
   "name": "python",
   "nbconvert_exporter": "python",
   "pygments_lexer": "ipython3",
   "version": "3.11.0"
  }
 },
 "nbformat": 4,
 "nbformat_minor": 5
}
