{
 "cells": [
  {
   "cell_type": "markdown",
   "id": "52478063",
   "metadata": {},
   "source": [
    "# Project  2 "
   ]
  },
  {
   "cell_type": "code",
   "execution_count": 193,
   "id": "04539e51",
   "metadata": {},
   "outputs": [],
   "source": [
    "import os\n",
    "import numpy as np\n",
    "import pickle\n",
    "import torch\n",
    "import pandas as pd\n",
    "\n",
    "from torch import nn\n",
    "import torch.optim as optim\n",
    "from torch.utils.data import DataLoader\n",
    "\n",
    "import matplotlib.pyplot as plt\n",
    "from tqdm import tqdm"
   ]
  },
  {
   "cell_type": "markdown",
   "id": "23d27ea6",
   "metadata": {},
   "source": [
    "Als eerste stap moeten we de gegenereerde data ophalen/inlezen:"
   ]
  },
  {
   "cell_type": "code",
   "execution_count": 194,
   "id": "b63ff72a",
   "metadata": {},
   "outputs": [],
   "source": [
    "#Sample data ophalen\n",
    "\n",
    "sonar_samples = pd.read_table('../simpylc/samples/sonar_samples', sep = \" \", header=None)\n",
    "\n",
    "lidar_samples = pd.read_table('../simpylc/samples/lidar_samples', sep = \" \", header=None)\n",
    "lidar_samples_l = pd.read_table('../simpylc/samples/large_lidar_sample', sep = \" \", header=None)\n"
   ]
  },
  {
   "cell_type": "markdown",
   "id": "d2aa07de",
   "metadata": {},
   "source": [
    "Vervolgens kijken we naar de afmetingen van de datasets - dit zegt namelijk ook direct iets over het aantal input neuronen in de input-laag van ons toekomstige neural net. "
   ]
  },
  {
   "cell_type": "code",
   "execution_count": 195,
   "id": "7deb721c",
   "metadata": {},
   "outputs": [
    {
     "name": "stdout",
     "output_type": "stream",
     "text": [
      "Sonar data has shape (2993, 4)\n",
      "Lidar data has shape (5664, 17)\n"
     ]
    }
   ],
   "source": [
    "print(f\"Sonar data has shape {sonar_samples.shape}\")\n",
    "print(f\"Lidar data has shape {lidar_samples.shape}\")"
   ]
  },
  {
   "cell_type": "markdown",
   "id": "b5b0fb13",
   "metadata": {},
   "source": [
    "Hoe zien de datasets er uit? We inspecteren zowel de eerste als laatste 5 rijen:"
   ]
  },
  {
   "cell_type": "code",
   "execution_count": 196,
   "id": "f8b60571",
   "metadata": {},
   "outputs": [
    {
     "data": {
      "text/html": [
       "<div>\n",
       "<style scoped>\n",
       "    .dataframe tbody tr th:only-of-type {\n",
       "        vertical-align: middle;\n",
       "    }\n",
       "\n",
       "    .dataframe tbody tr th {\n",
       "        vertical-align: top;\n",
       "    }\n",
       "\n",
       "    .dataframe thead th {\n",
       "        text-align: right;\n",
       "    }\n",
       "</style>\n",
       "<table border=\"1\" class=\"dataframe\">\n",
       "  <thead>\n",
       "    <tr style=\"text-align: right;\">\n",
       "      <th></th>\n",
       "      <th>0</th>\n",
       "      <th>1</th>\n",
       "      <th>2</th>\n",
       "      <th>3</th>\n",
       "    </tr>\n",
       "  </thead>\n",
       "  <tbody>\n",
       "    <tr>\n",
       "      <th>0</th>\n",
       "      <td>1.4216</td>\n",
       "      <td>1.2448</td>\n",
       "      <td>1.7510</td>\n",
       "      <td>-22.0</td>\n",
       "    </tr>\n",
       "    <tr>\n",
       "      <th>1</th>\n",
       "      <td>1.4218</td>\n",
       "      <td>1.2450</td>\n",
       "      <td>1.7511</td>\n",
       "      <td>-22.0</td>\n",
       "    </tr>\n",
       "    <tr>\n",
       "      <th>2</th>\n",
       "      <td>1.4215</td>\n",
       "      <td>1.2448</td>\n",
       "      <td>1.7509</td>\n",
       "      <td>-22.0</td>\n",
       "    </tr>\n",
       "    <tr>\n",
       "      <th>3</th>\n",
       "      <td>1.4215</td>\n",
       "      <td>1.2448</td>\n",
       "      <td>1.7509</td>\n",
       "      <td>-22.0</td>\n",
       "    </tr>\n",
       "    <tr>\n",
       "      <th>4</th>\n",
       "      <td>1.4158</td>\n",
       "      <td>1.2402</td>\n",
       "      <td>1.7468</td>\n",
       "      <td>-22.0</td>\n",
       "    </tr>\n",
       "  </tbody>\n",
       "</table>\n",
       "</div>"
      ],
      "text/plain": [
       "        0       1       2     3\n",
       "0  1.4216  1.2448  1.7510 -22.0\n",
       "1  1.4218  1.2450  1.7511 -22.0\n",
       "2  1.4215  1.2448  1.7509 -22.0\n",
       "3  1.4215  1.2448  1.7509 -22.0\n",
       "4  1.4158  1.2402  1.7468 -22.0"
      ]
     },
     "execution_count": 196,
     "metadata": {},
     "output_type": "execute_result"
    }
   ],
   "source": [
    "sonar_samples.head()"
   ]
  },
  {
   "cell_type": "code",
   "execution_count": 197,
   "id": "724b03c0",
   "metadata": {},
   "outputs": [
    {
     "data": {
      "text/html": [
       "<div>\n",
       "<style scoped>\n",
       "    .dataframe tbody tr th:only-of-type {\n",
       "        vertical-align: middle;\n",
       "    }\n",
       "\n",
       "    .dataframe tbody tr th {\n",
       "        vertical-align: top;\n",
       "    }\n",
       "\n",
       "    .dataframe thead th {\n",
       "        text-align: right;\n",
       "    }\n",
       "</style>\n",
       "<table border=\"1\" class=\"dataframe\">\n",
       "  <thead>\n",
       "    <tr style=\"text-align: right;\">\n",
       "      <th></th>\n",
       "      <th>0</th>\n",
       "      <th>1</th>\n",
       "      <th>2</th>\n",
       "      <th>3</th>\n",
       "    </tr>\n",
       "  </thead>\n",
       "  <tbody>\n",
       "    <tr>\n",
       "      <th>2988</th>\n",
       "      <td>1.5485</td>\n",
       "      <td>1.7743</td>\n",
       "      <td>1.0869</td>\n",
       "      <td>22.0</td>\n",
       "    </tr>\n",
       "    <tr>\n",
       "      <th>2989</th>\n",
       "      <td>2.0917</td>\n",
       "      <td>1.1539</td>\n",
       "      <td>1.0575</td>\n",
       "      <td>0.0</td>\n",
       "    </tr>\n",
       "    <tr>\n",
       "      <th>2990</th>\n",
       "      <td>2.0632</td>\n",
       "      <td>1.1318</td>\n",
       "      <td>1.0445</td>\n",
       "      <td>0.0</td>\n",
       "    </tr>\n",
       "    <tr>\n",
       "      <th>2991</th>\n",
       "      <td>2.0632</td>\n",
       "      <td>1.1318</td>\n",
       "      <td>1.0445</td>\n",
       "      <td>0.0</td>\n",
       "    </tr>\n",
       "    <tr>\n",
       "      <th>2992</th>\n",
       "      <td>1.9847</td>\n",
       "      <td>1.6233</td>\n",
       "      <td>1.4057</td>\n",
       "      <td>0.0</td>\n",
       "    </tr>\n",
       "  </tbody>\n",
       "</table>\n",
       "</div>"
      ],
      "text/plain": [
       "           0       1       2     3\n",
       "2988  1.5485  1.7743  1.0869  22.0\n",
       "2989  2.0917  1.1539  1.0575   0.0\n",
       "2990  2.0632  1.1318  1.0445   0.0\n",
       "2991  2.0632  1.1318  1.0445   0.0\n",
       "2992  1.9847  1.6233  1.4057   0.0"
      ]
     },
     "execution_count": 197,
     "metadata": {},
     "output_type": "execute_result"
    }
   ],
   "source": [
    "sonar_samples.tail()"
   ]
  },
  {
   "cell_type": "markdown",
   "id": "e6b9a552",
   "metadata": {},
   "source": [
    "Hierboven zien we de data van de Sonar versie van de auto - na ook de broncode van de simulatie te hebben bekeken is het duidelijk geworden dat deze auto 3 \"sensoren\" heeft die per t (tijdsinterval) de omgeving scannen op pionnen en de afstand tot deze objecten meten. Aan de hand van deze input wordt er een stuurhoek berekend (de laatste kolom), waarbij de auto zichzelf dus corrigeert aan de hand van omgevingsdata, zodat deze geen pionnen raakt en/of van de uitgezette track af gaat. \n",
    "\n",
    "Voor de lidar data geldt in principe hetzelfde, alleen zien we hier dat er in plaats van 3 sensoren gebruik wordt gemaakt van 16 sensoren. Ook zien we weer de berekende stuurhoek in de laatste kolom:"
   ]
  },
  {
   "cell_type": "code",
   "execution_count": 198,
   "id": "ea4eb062",
   "metadata": {},
   "outputs": [
    {
     "data": {
      "text/html": [
       "<div>\n",
       "<style scoped>\n",
       "    .dataframe tbody tr th:only-of-type {\n",
       "        vertical-align: middle;\n",
       "    }\n",
       "\n",
       "    .dataframe tbody tr th {\n",
       "        vertical-align: top;\n",
       "    }\n",
       "\n",
       "    .dataframe thead th {\n",
       "        text-align: right;\n",
       "    }\n",
       "</style>\n",
       "<table border=\"1\" class=\"dataframe\">\n",
       "  <thead>\n",
       "    <tr style=\"text-align: right;\">\n",
       "      <th></th>\n",
       "      <th>0</th>\n",
       "      <th>1</th>\n",
       "      <th>2</th>\n",
       "      <th>3</th>\n",
       "      <th>4</th>\n",
       "      <th>5</th>\n",
       "      <th>6</th>\n",
       "      <th>7</th>\n",
       "      <th>8</th>\n",
       "      <th>9</th>\n",
       "      <th>10</th>\n",
       "      <th>11</th>\n",
       "      <th>12</th>\n",
       "      <th>13</th>\n",
       "      <th>14</th>\n",
       "      <th>15</th>\n",
       "      <th>16</th>\n",
       "    </tr>\n",
       "  </thead>\n",
       "  <tbody>\n",
       "    <tr>\n",
       "      <th>0</th>\n",
       "      <td>7.4374</td>\n",
       "      <td>6.8442</td>\n",
       "      <td>8.3839</td>\n",
       "      <td>10.2577</td>\n",
       "      <td>12.9285</td>\n",
       "      <td>11.2363</td>\n",
       "      <td>5.7409</td>\n",
       "      <td>5.8726</td>\n",
       "      <td>20.0</td>\n",
       "      <td>20.0</td>\n",
       "      <td>5.2446</td>\n",
       "      <td>2.7496</td>\n",
       "      <td>4.3012</td>\n",
       "      <td>5.5170</td>\n",
       "      <td>1.4444</td>\n",
       "      <td>6.4318</td>\n",
       "      <td>-32.0</td>\n",
       "    </tr>\n",
       "    <tr>\n",
       "      <th>1</th>\n",
       "      <td>7.4374</td>\n",
       "      <td>6.8442</td>\n",
       "      <td>8.3839</td>\n",
       "      <td>10.2577</td>\n",
       "      <td>12.9285</td>\n",
       "      <td>11.2363</td>\n",
       "      <td>5.7409</td>\n",
       "      <td>5.8726</td>\n",
       "      <td>20.0</td>\n",
       "      <td>20.0</td>\n",
       "      <td>5.2446</td>\n",
       "      <td>2.7496</td>\n",
       "      <td>4.3012</td>\n",
       "      <td>5.5170</td>\n",
       "      <td>1.4444</td>\n",
       "      <td>6.4318</td>\n",
       "      <td>-32.0</td>\n",
       "    </tr>\n",
       "    <tr>\n",
       "      <th>2</th>\n",
       "      <td>7.4382</td>\n",
       "      <td>6.8450</td>\n",
       "      <td>8.3846</td>\n",
       "      <td>10.2585</td>\n",
       "      <td>12.9292</td>\n",
       "      <td>11.2370</td>\n",
       "      <td>5.7415</td>\n",
       "      <td>5.8731</td>\n",
       "      <td>20.0</td>\n",
       "      <td>20.0</td>\n",
       "      <td>5.2451</td>\n",
       "      <td>2.7502</td>\n",
       "      <td>4.3018</td>\n",
       "      <td>5.5177</td>\n",
       "      <td>1.4452</td>\n",
       "      <td>6.4326</td>\n",
       "      <td>-32.0</td>\n",
       "    </tr>\n",
       "    <tr>\n",
       "      <th>3</th>\n",
       "      <td>7.4382</td>\n",
       "      <td>6.8450</td>\n",
       "      <td>8.3846</td>\n",
       "      <td>10.2585</td>\n",
       "      <td>12.9292</td>\n",
       "      <td>11.2370</td>\n",
       "      <td>5.7415</td>\n",
       "      <td>5.8731</td>\n",
       "      <td>20.0</td>\n",
       "      <td>20.0</td>\n",
       "      <td>5.2451</td>\n",
       "      <td>2.7502</td>\n",
       "      <td>4.3018</td>\n",
       "      <td>5.5177</td>\n",
       "      <td>1.4452</td>\n",
       "      <td>6.4326</td>\n",
       "      <td>-32.0</td>\n",
       "    </tr>\n",
       "    <tr>\n",
       "      <th>4</th>\n",
       "      <td>7.4357</td>\n",
       "      <td>6.8427</td>\n",
       "      <td>8.3825</td>\n",
       "      <td>10.2565</td>\n",
       "      <td>12.9275</td>\n",
       "      <td>11.2355</td>\n",
       "      <td>5.7402</td>\n",
       "      <td>5.8722</td>\n",
       "      <td>20.0</td>\n",
       "      <td>20.0</td>\n",
       "      <td>5.2430</td>\n",
       "      <td>2.7479</td>\n",
       "      <td>4.2994</td>\n",
       "      <td>5.5152</td>\n",
       "      <td>1.4426</td>\n",
       "      <td>6.4300</td>\n",
       "      <td>-32.0</td>\n",
       "    </tr>\n",
       "  </tbody>\n",
       "</table>\n",
       "</div>"
      ],
      "text/plain": [
       "       0       1       2        3        4        5       6       7     8   \\\n",
       "0  7.4374  6.8442  8.3839  10.2577  12.9285  11.2363  5.7409  5.8726  20.0   \n",
       "1  7.4374  6.8442  8.3839  10.2577  12.9285  11.2363  5.7409  5.8726  20.0   \n",
       "2  7.4382  6.8450  8.3846  10.2585  12.9292  11.2370  5.7415  5.8731  20.0   \n",
       "3  7.4382  6.8450  8.3846  10.2585  12.9292  11.2370  5.7415  5.8731  20.0   \n",
       "4  7.4357  6.8427  8.3825  10.2565  12.9275  11.2355  5.7402  5.8722  20.0   \n",
       "\n",
       "     9       10      11      12      13      14      15    16  \n",
       "0  20.0  5.2446  2.7496  4.3012  5.5170  1.4444  6.4318 -32.0  \n",
       "1  20.0  5.2446  2.7496  4.3012  5.5170  1.4444  6.4318 -32.0  \n",
       "2  20.0  5.2451  2.7502  4.3018  5.5177  1.4452  6.4326 -32.0  \n",
       "3  20.0  5.2451  2.7502  4.3018  5.5177  1.4452  6.4326 -32.0  \n",
       "4  20.0  5.2430  2.7479  4.2994  5.5152  1.4426  6.4300 -32.0  "
      ]
     },
     "execution_count": 198,
     "metadata": {},
     "output_type": "execute_result"
    }
   ],
   "source": [
    "lidar_samples.head()"
   ]
  },
  {
   "cell_type": "markdown",
   "id": "f88b76d9",
   "metadata": {},
   "source": [
    "## De opdracht"
   ]
  },
  {
   "cell_type": "markdown",
   "id": "3246ec31",
   "metadata": {},
   "source": [
    "Wat we in dit project uiteindelijk willen onderzoeken is het volgende: kunnen we met de bovenstaande data een neuraal netwerk trainen dat de juiste stuurhoek kan voorspellen aan de hand van de input, waarbij de \"juiste stuurhoek\" natuurlijk inhoudt dat de auto zichzelf, middels het neurale netwerk, netjes en veilig op de uitgezette baan houdt."
   ]
  },
  {
   "cell_type": "code",
   "execution_count": null,
   "id": "6427d940",
   "metadata": {},
   "outputs": [],
   "source": []
  },
  {
   "cell_type": "code",
   "execution_count": 199,
   "id": "0e21661d",
   "metadata": {},
   "outputs": [
    {
     "name": "stdout",
     "output_type": "stream",
     "text": [
      "19085\n"
     ]
    }
   ],
   "source": [
    "X_sonar = torch.Tensor(sonar_samples.iloc[:, :-1].to_numpy())\n",
    "Y_sonar = torch.Tensor(sonar_samples.iloc[:, -1:].to_numpy())\n",
    "\n",
    "X_lidar = torch.Tensor(lidar_samples_l.iloc[:, :-1].to_numpy())\n",
    "Y_lidar = torch.Tensor(lidar_samples_l.iloc[:, -1:].to_numpy())\n",
    "\n",
    "print(len(X_lidar))"
   ]
  },
  {
   "cell_type": "code",
   "execution_count": 207,
   "id": "9867d3d6",
   "metadata": {},
   "outputs": [
    {
     "name": "stdout",
     "output_type": "stream",
     "text": [
      "tensor([[ 7.4349,  6.8417,  8.3815, 10.2554, 12.9263, 11.2344,  5.7391,  5.8710,\n",
      "         20.0000, 20.0000,  5.2431,  2.7478,  4.2993,  5.5149,  1.4421,  6.4294],\n",
      "        [ 7.4349,  6.8417,  8.3815, 10.2554, 12.9263, 11.2344,  5.7391,  5.8710,\n",
      "         20.0000, 20.0000,  5.2431,  2.7478,  4.2993,  5.5149,  1.4421,  6.4294],\n",
      "        [ 7.4357,  6.8425,  8.3823, 10.2561, 12.9271, 11.2350,  5.7397,  5.8715,\n",
      "         20.0000, 20.0000,  5.2436,  2.7484,  4.2999,  5.5156,  1.4429,  6.4302],\n",
      "        [ 7.4357,  6.8425,  8.3823, 10.2561, 12.9271, 11.2350,  5.7397,  5.8715,\n",
      "         20.0000, 20.0000,  5.2436,  2.7484,  4.2999,  5.5156,  1.4429,  6.4302],\n",
      "        [ 7.4333,  6.8402,  8.3802, 10.2542, 12.9253, 11.2336,  5.7384,  5.8707,\n",
      "         20.0000, 20.0000,  5.2415,  2.7462,  4.2975,  5.5131,  1.4403,  6.4277],\n",
      "        [ 7.4333,  6.8402,  8.3802, 10.2542, 12.9253, 11.2336,  5.7384,  5.8707,\n",
      "         20.0000, 20.0000,  5.2415,  2.7462,  4.2975,  5.5131,  1.4403,  6.4277],\n",
      "        [ 7.4274,  6.8346,  8.3751, 10.2494, 12.9212, 11.2302,  5.7354,  5.8686,\n",
      "         20.0000, 20.0000,  5.2364,  2.7407,  4.2918,  5.5071,  1.4342,  6.4215],\n",
      "        [ 7.4274,  6.8346,  8.3751, 10.2494, 12.9212, 11.2302,  5.7354,  5.8686,\n",
      "         20.0000, 20.0000,  5.2364,  2.7407,  4.2918,  5.5071,  1.4342,  6.4215],\n",
      "        [ 7.4185,  6.8261,  8.8008,  8.3675, 12.9150, 11.2252,  5.7309,  5.8656,\n",
      "         20.0000, 20.0000,  5.2287,  2.7323,  4.2831,  5.4979,  4.7709,  1.4248],\n",
      "        [ 7.4185,  6.8261,  8.8008,  8.3675, 12.9150, 11.2252,  5.7309,  5.8656,\n",
      "         20.0000, 20.0000,  5.2287,  2.7323,  4.2831,  5.4979,  4.7709,  1.4248]]) tensor([[-32.0000],\n",
      "        [-32.0000],\n",
      "        [-32.0000],\n",
      "        [-32.0000],\n",
      "        [-32.0000],\n",
      "        [-32.0000],\n",
      "        [-31.5000],\n",
      "        [-31.5000],\n",
      "        [-31.0000],\n",
      "        [-31.0000]])\n"
     ]
    }
   ],
   "source": [
    "# Dataloader van de lidar dataset\n",
    "loader = DataLoader(list(zip(X_lidar, Y_lidar)), shuffle=False, batch_size=10)\n",
    "\n",
    "for X_batch, y_batch in loader:\n",
    "    print(X_batch, y_batch)\n",
    "    break"
   ]
  },
  {
   "cell_type": "code",
   "execution_count": 208,
   "id": "bd2c9392",
   "metadata": {},
   "outputs": [
    {
     "name": "stdout",
     "output_type": "stream",
     "text": [
      "Using mps device\n"
     ]
    }
   ],
   "source": [
    "device = (\n",
    "\n",
    "\"cuda\" if torch.cuda.is_available() else \"mps\" if torch.backends.mps.is_available() else \"cpu\")\n",
    "\n",
    "print(f\"Using {device} device\")"
   ]
  },
  {
   "cell_type": "code",
   "execution_count": 209,
   "id": "c54d863b",
   "metadata": {},
   "outputs": [],
   "source": [
    "class lidar_sweep_2(nn.Module):\n",
    "\n",
    "    def __init__(self, inputs_size, hidden1_size, hidden2_size, hidden3_size, hidden4_size, outputs_size):\n",
    "        super().__init__()\n",
    "\n",
    "        self.model = nn.Sequential(\n",
    "                nn.Linear(inputs_size, hidden1_size),\n",
    "                nn.ReLU(),\n",
    "                nn.Linear(hidden1_size, hidden2_size),\n",
    "                nn.ReLU(),\n",
    "                nn.Linear(hidden2_size, hidden3_size),\n",
    "                nn.ReLU(),\n",
    "                nn.Linear(hidden3_size, hidden4_size),\n",
    "                nn.ReLU(),\n",
    "                nn.Linear(hidden4_size, outputs_size),\n",
    "                                    )\n",
    "        \n",
    "    def forward(self, x):\n",
    "        \n",
    "        return self.model(x)"
   ]
  },
  {
   "cell_type": "code",
   "execution_count": 210,
   "id": "5ee61e6e",
   "metadata": {},
   "outputs": [],
   "source": [
    "# model_1 = lidar_sweep_2(16, 64, 64, 128, 1)\n",
    "\n",
    "\n",
    "# learning_rate = 0.000075\n",
    "\n",
    "# loss_function = nn.MSELoss()\n",
    "# gradientDescent = torch.optim.SGD(model_1.parameters(), lr=learning_rate)"
   ]
  },
  {
   "cell_type": "code",
   "execution_count": 241,
   "id": "5dcc5216",
   "metadata": {},
   "outputs": [
    {
     "name": "stderr",
     "output_type": "stream",
     "text": [
      "100%|█████████████████████████████████████████| 500/500 [03:34<00:00,  2.33it/s]\n"
     ]
    }
   ],
   "source": [
    "model_1 = lidar_sweep_2(16, 100, 75, 50, 25, 1)\n",
    "\n",
    "\n",
    "learning_rate = 0.00005\n",
    "\n",
    "loss_function = nn.MSELoss()\n",
    "gradientDescent = torch.optim.SGD(model_1.parameters(), lr=learning_rate)\n",
    "\n",
    "epochs = 500\n",
    "losses = []\n",
    "\n",
    "model_1.train()\n",
    "\n",
    "for i in tqdm(range(epochs)):\n",
    "    \n",
    "    epoch_loss = []\n",
    "    \n",
    "    for x_batch, y_batch in loader:\n",
    "        \n",
    "        gradientDescent.zero_grad()\n",
    "        \n",
    "        y_pred = model_1(x_batch)\n",
    "        \n",
    "        loss = loss_function(y_pred, y_batch)\n",
    "    \n",
    "        loss.backward()\n",
    "        \n",
    "        gradientDescent.step()\n",
    "        \n",
    "        epoch_loss.append(loss.item())\n",
    "        \n",
    "        \n",
    "    losses.append(sum(epoch_loss) / len(loader))\n",
    "\n",
    "#losses = [loss.detach().numpy() for loss in losses]\n",
    "        "
   ]
  },
  {
   "cell_type": "code",
   "execution_count": 242,
   "id": "dd09e316",
   "metadata": {
    "scrolled": true
   },
   "outputs": [
    {
     "data": {
      "image/png": "[encoded data removed]",
      "text/plain": [
       "<Figure size 640x480 with 1 Axes>"
      ]
     },
     "metadata": {},
     "output_type": "display_data"
    }
   ],
   "source": [
    "fig, ax = plt.subplots()\n",
    "ax.set(xlabel='Epoch', ylabel='Cost', title=\"Training Cost\")\n",
    "\n",
    "plt.plot([x for x in range(len(losses))], losses, 'red')\n",
    "plt.show()"
   ]
  },
  {
   "cell_type": "code",
   "execution_count": 243,
   "id": "ba1c3323",
   "metadata": {},
   "outputs": [
    {
     "name": "stdout",
     "output_type": "stream",
     "text": [
      "[155.28316815590878, 101.14217767344994, 85.60621598068256, 80.19566894960363, 75.96806432417412, 71.86276059230471, 68.16890528064754, 65.13275974327401, 62.24432142855743, 59.409864339866274, 56.85546811546051, 54.105845094000315, 51.608240818441885, 48.889046902694645, 46.3841726142677, 44.102391384452226, 41.8371350874294, 39.86571593076037, 38.116074636057526, 36.2497840429485, 34.39283181897293, 32.92497904381128, 31.67169977691768, 29.82958214823498, 28.406208458745382, 26.44735585648182, 25.117015576654545, 23.74578431150898, 22.227516147655894, 21.063556955572103, 20.067860108300177, 19.508178519938802, 18.527393988866873, 17.46701318741961, 16.726355471277625, 15.891086744920255, 14.935827246834434, 14.543676682792295, 14.103856128218474, 14.401258792113483, 12.645148829351614, 11.885386971176263, 11.562973526050325, 11.583155669176326, 10.412297992641667, 9.851692934803014, 9.890951276147486, 9.440442415223602, 8.91066110155249, 8.455093035572967, 8.174309858096096, 8.087156114788169, 7.977425538503012, 8.181807546862222, 7.464834011571102, 7.13660694054104, 6.938552118714893, 6.8449015034398775, 6.416256291550795, 6.441863055046767, 6.076071471895002, 6.017901286941398, 5.820820013733435, 5.854863047820305, 5.672483432348164, 5.5249472102574755, 5.3585199970535395, 5.274356104283276, 5.128928937851181, 5.319100965118849, 4.988444225219625, 5.139774924707138, 4.976837449193376, 4.850111428353567, 4.70158986132953, 4.504101102046704, 4.242996970166229, 4.164126947986605, 4.423956237495777, 4.450262937708448, 4.429858980956987, 4.1924844482955566, 4.02198828942781, 4.002848851602308, 4.175210030020579, 4.077706215057216, 4.032167711583512, 3.921039333981703, 4.210062147714803, 3.6324524217333516, 3.3460640287131165, 3.1907625713601764, 3.093781940594136, 3.071137837841209, 3.0709638766780487, 2.905504691666758, 2.9162068557288867, 2.8980235269555656, 2.8063078623883633, 2.699801884918445, 3.0275951699729893, 2.855782071320704, 2.735597130309277, 2.8317824099164097, 2.630407654571031, 2.5225945533301553, 2.4310114948540504, 2.46673975665817, 2.362576570308188, 2.3901085911348905, 2.370636343982338, 2.2934771329857266, 2.2831168602810537, 2.2739442570545774, 2.219790067229051, 2.2370419400837322, 2.3437589685846807, 2.2301566536626605, 2.1416908605263267, 2.0950011552485646, 2.0733237178267343, 2.0833184402153058, 2.000236599994926, 2.0350137079132633, 1.9678556628173023, 2.10004271666391, 2.0019609781111787, 1.9946006706722115, 1.9119605563694173, 1.8937846735817945, 1.9540737576752456, 1.8117631115312036, 1.8708487805510852, 1.8791283230273363, 1.7890524156618475, 1.7992709775842168, 1.8473033068797733, 1.8166438161702598, 1.8652682007748889, 1.7762921104515474, 1.772946318468804, 1.7217411386953387, 1.7427745352411006, 1.676667861191867, 1.7735331999661226, 1.7880934218460407, 1.6614162761729256, 1.6800234432290995, 1.7631663811781417, 1.5751520462460755, 1.6260388013401843, 1.6068027567772687, 1.6499643102510833, 1.575516668102968, 1.6097719144974256, 1.5362697849259943, 1.5934542335974538, 1.5758536032491217, 1.519658383651358, 1.5028701796225186, 1.491221186278057, 1.515254966257752, 1.5796678353379339, 1.497087273867718, 1.4729084485674433, 1.7591029314754552, 1.5270661385292055, 1.512539468512462, 1.6163463381754752, 1.7339485312810567, 1.6173662590272744, 1.5287145534474178, 1.5292474487342718, 1.5948681505345736, 1.553017218093275, 1.574878292463158, 1.5710017012294153, 1.4954990977416525, 1.5849762436289354, 1.443379489054163, 1.4141925290190835, 1.4663500272483023, 1.3952962073720425, 1.4137570634855063, 1.4090962870277741, 1.3941443189002882, 1.4415093482188557, 1.4215274358586827, 1.3848968994117796, 1.3850238804747885, 1.4074577415891816, 1.3906114701388503, 1.3742175889267323, 1.4199790848812284, 1.3920397768363029, 1.5005106751745076, 1.4005515980878196, 1.4447043571970486, 1.322319425301965, 1.3258258529327471, 1.3144855575090604, 1.338103256267854, 1.370731024034497, 1.3154677227900533, 1.3695137246403084, 1.333861203904709, 1.3714869471326385, 1.2967831702017938, 1.2947011977529779, 1.2686005223965913, 1.2771953296325145, 1.2833984177603521, 1.249131190139291, 1.2302929559471782, 1.2939055369488286, 1.2580606322813606, 1.2163082974420878, 1.2571476409050761, 1.2111884132310584, 1.2036692843376817, 1.206931563866051, 1.2077166307922462, 1.2014284410127065, 1.204816057627768, 1.1749624550408908, 1.160044371330454, 1.2018690977912472, 1.2086130229643053, 1.2139423923955273, 1.2088903632969241, 1.235065423094142, 1.2436377498291475, 1.173278343660836, 1.1704029241956588, 1.2127904488045025, 1.1859275667955966, 1.1701172173946253, 1.2089943010925919, 1.1558068112844397, 1.1700719170806069, 1.1967238463430176, 1.1853808808823947, 1.226526544681097, 1.217144942323342, 1.1862692665757544, 1.135559093655951, 1.142693167600894, 1.1106104703123436, 1.116241478590483, 1.1269121939187596, 1.1154481810300512, 1.0986190298767327, 1.121392241979165, 1.1313499698230989, 1.1398864269322209, 1.122745725146708, 1.1580055738868062, 1.114792995954946, 1.1054635221665972, 1.116388226066013, 1.0741992453859623, 1.0918272821368789, 1.103625456788277, 1.0842956557717212, 1.068481727883282, 1.0771809179697336, 1.0774310420546827, 1.0691807338441763, 1.0651836985799754, 1.078910709482668, 1.082094099778524, 1.1045277265664981, 1.0450044054700955, 1.0696705111496116, 1.0427991908744676, 1.0744862524705225, 1.0495332888385593, 1.0621801591887174, 1.0425758632456112, 1.0552295778100873, 1.0234269445275155, 1.0397650026255265, 1.030118704862032, 1.0474286983960497, 1.020869972832665, 1.026167881708483, 1.0537294175733425, 1.0608939274939655, 1.0206657402034929, 1.0604153272252863, 1.0611004317928185, 1.0440001292288354, 1.050962635397915, 1.030893615539678, 1.064967746610498, 1.0242922459663155, 1.0307073406762925, 1.0184074767497884, 1.0199749116666788, 1.0135230389269994, 1.0352580411925096, 1.015860219295305, 1.006088494454916, 1.005935200657881, 1.0189135137290708, 1.0612305211845587, 1.0672774637179452, 1.0581629416281373, 1.0400999149862793, 1.0058356086167834, 1.0319692677271348, 0.9889097085076001, 0.9987249409105685, 1.0165276726351191, 1.0688237180219131, 1.032458130096748, 1.0052597108377546, 0.9882686615952292, 1.006721581931842, 0.9937257747399543, 0.9748178121103037, 1.0064656371380032, 1.000163610561762, 0.9815104076860306, 0.9855403189748968, 0.9667773339611997, 0.9478264493746278, 0.9924866054338809, 0.964179331652143, 0.9723693637902794, 0.956084141828512, 0.9589298244263497, 0.9431064599799798, 0.9570539589959596, 0.9591070273813034, 0.95219119931609, 0.9694615439825894, 0.9322644582792976, 0.9573011474815358, 0.9469673587423991, 0.9561570184976116, 0.9748197990694537, 0.9610030703122677, 0.9743322069863284, 0.9617006509094521, 0.9640689947319911, 0.9691172779192333, 0.9631852511988076, 0.9610888152058842, 0.9950843311945292, 0.9600278754672743, 0.9525824080483823, 0.968295633873008, 0.9683684856486822, 0.9500916355907636, 0.9744667582869561, 0.943630345070475, 0.9481541351570721, 0.9164748426061855, 0.9337707906132081, 0.9476733595454083, 0.9398933119200816, 0.9447261426516605, 0.954603818390858, 0.9521552763307041, 0.9553889151294986, 0.952602384799546, 0.9823652312050136, 0.9505437970912253, 0.93493340270142, 0.9418102688450125, 0.9547370412954882, 1.0294898060650988, 0.9514649408341826, 0.9436559310702987, 0.935823986367647, 0.9134896431293758, 0.9244529403530982, 0.9360907959035608, 0.9241945002294615, 0.9705658962779604, 0.9627878937544985, 0.9484570535790661, 0.9392910801262568, 0.9484632951429435, 0.9733664750476085, 0.9528887635749419, 0.9271748850969505, 0.9502548634751776, 0.9169221077799298, 0.9146524111085584, 0.9795182790662585, 0.972503874533858, 0.9489935160733588, 0.9743643865995978, 0.9727436922352899, 0.955821134769609, 0.9174351720708349, 0.8827219462320267, 0.8979007719751035, 0.9329460460954624, 0.921935858757461, 0.9284584966859512, 0.8817010865214531, 0.894341903356928, 0.9234205352543351, 0.8967979455770678, 0.9304894776692865, 0.900026152723441, 0.8884705820516281, 0.9054090152126276, 0.9262247318498285, 0.9432198976046046, 0.92494062916705, 0.882167736120325, 0.8900266541270544, 0.8819727600534335, 0.8783911403574464, 0.8767460391019076, 0.8757902884218235, 0.8907474079182445, 0.8685570447950836, 0.8649392154400047, 0.8558388541500397, 0.8628991012775664, 0.8786284908519638, 0.847676543577078, 0.8683645395038092, 0.8743205977682887, 0.8568220456223984, 0.8826814289416995, 0.8564895424421539, 0.8782841996621533, 0.8554268477739734, 0.8630024738397084, 0.8773737004250698, 0.8562556449841023, 0.8642072339067524, 0.8951564153634776, 0.8566114752248004, 0.8635443624315394, 0.8840045284676463, 0.86510318818889, 0.8623735002879173, 0.848001032404703, 0.8507033011968373, 0.8672527871336134, 0.8477461215285725, 0.8687013984221679, 0.8472457360627492, 0.8707809982837322, 0.8689406839803822, 0.861493243989359, 0.8404777389075344, 0.8731027445189983, 0.8503517736693917, 0.8534181140472497, 0.8403068756058494, 0.8635811369759779, 0.8403609339512481, 0.8319634632102564, 0.8528137978919108, 0.8631878857114955, 0.8661056735017179, 0.8890125514337409, 0.8910941617073557, 0.8429255549230437, 0.8292760094135001, 0.8188498195570797, 0.8429027776667558, 0.8474658468318396, 0.8612607066966437, 0.8971865386454532, 0.8590510542345905, 0.8593378904478789, 0.8354633594963128, 0.8787332136464984, 0.8810953010949846, 0.8724758593792914, 0.87926862090426, 0.8412448185878514, 0.8508503977545953, 0.8277842197516609, 0.8627417295364513, 0.8198077553300691, 0.8488367819733432, 0.8260082131378048, 0.8328183109661288, 0.8527711545636282, 0.8830128101818118, 0.8449390937694709, 0.8627617314262506, 0.8300173808449773, 0.8457613252643632, 0.8458814077568253, 0.8341115890719648, 0.8514548304289259, 0.8227347107816365, 0.8277510446973799, 0.8010347021947092]\n"
     ]
    }
   ],
   "source": [
    "print(losses)"
   ]
  },
  {
   "cell_type": "code",
   "execution_count": 222,
   "id": "571bbb06",
   "metadata": {},
   "outputs": [],
   "source": [
    "pickle.dump(model_1.model, open('model_1.pkl', 'wb'))"
   ]
  },
  {
   "cell_type": "code",
   "execution_count": 240,
   "id": "615ea7e9",
   "metadata": {},
   "outputs": [
    {
     "name": "stdout",
     "output_type": "stream",
     "text": [
      "Model accuracy: 7.06%\n"
     ]
    }
   ],
   "source": [
    "model_1.eval()\n",
    "y_pred = model_1(X_lidar)\n",
    "acc = (y_pred.round() == Y_lidar).float().mean()\n",
    "acc = float(acc)\n",
    "print(\"Model accuracy: %.2f%%\" % (acc*100))"
   ]
  },
  {
   "cell_type": "code",
   "execution_count": null,
   "id": "f9124b23",
   "metadata": {},
   "outputs": [],
   "source": []
  },
  {
   "cell_type": "code",
   "execution_count": null,
   "id": "054b825b",
   "metadata": {},
   "outputs": [],
   "source": []
  }
 ],
 "metadata": {
  "kernelspec": {
   "display_name": "Python 3 (ipykernel)",
   "language": "python",
   "name": "python3"
  },
  "language_info": {
   "codemirror_mode": {
    "name": "ipython",
    "version": 3
   },
   "file_extension": ".py",
   "mimetype": "text/x-python",
   "name": "python",
   "nbconvert_exporter": "python",
   "pygments_lexer": "ipython3",
   "version": "3.11.0"
  }
 },
 "nbformat": 4,
 "nbformat_minor": 5
}
