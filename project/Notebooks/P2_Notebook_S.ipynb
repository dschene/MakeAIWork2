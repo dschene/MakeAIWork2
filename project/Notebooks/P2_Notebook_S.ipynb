{
 "cells": [
  {
   "cell_type": "code",
   "execution_count": 8,
   "id": "caa1bb6a",
   "metadata": {},
   "outputs": [],
   "source": [
    "import os\n",
    "import numpy as np\n",
    "import pickle\n",
    "import torch\n",
    "import pandas as pd\n",
    "\n",
    "from torch import nn\n",
    "import torch.optim as optim\n",
    "from torch.utils.data import DataLoader\n",
    "\n",
    "import matplotlib.pyplot as plt\n",
    "from tqdm import tqdm"
   ]
  },
  {
   "cell_type": "code",
   "execution_count": 3,
   "id": "047cae63",
   "metadata": {},
   "outputs": [],
   "source": [
    "sonar_samples = pd.read_table('../Data/sonar_samples', sep = \" \", header=None)"
   ]
  },
  {
   "cell_type": "code",
   "execution_count": 6,
   "id": "86551522",
   "metadata": {},
   "outputs": [],
   "source": [
    "X_sonar = torch.Tensor(sonar_samples.iloc[:, :-1].to_numpy())\n",
    "Y_sonar = torch.Tensor(sonar_samples.iloc[:, -1:].to_numpy())"
   ]
  },
  {
   "cell_type": "code",
   "execution_count": 12,
   "id": "4ca83fa9",
   "metadata": {},
   "outputs": [],
   "source": [
    "loader = DataLoader(list(zip(X_sonar, Y_sonar)), shuffle = False, batch_size = 10)"
   ]
  },
  {
   "cell_type": "code",
   "execution_count": 15,
   "id": "118cb572",
   "metadata": {},
   "outputs": [],
   "source": [
    "class Sonar_sweep(nn.Module):\n",
    "\n",
    "    def __init__(self, input_size, hidden1_size, hidden2_size, output_size):\n",
    "        super().__init__()\n",
    "        self.l1 = nn.Linear(input_size, hidden1_size)\n",
    "        self.activ1 = nn.ReLU()\n",
    "        self.l2 = nn.Linear(hidden1_size, hidden2_size)\n",
    "        self.activ2 = nn.ReLU()\n",
    "        self.l3 = nn.Linear(hidden2_size, output_size)\n",
    "\n",
    "    def forward(self, X):\n",
    "        X = self.l1(X)\n",
    "        X = self.activ1(X)\n",
    "        X = self.l2(X)\n",
    "        X = self.activ2(X)\n",
    "        X = self.l3(X)\n",
    "        \n",
    "        return X\n",
    "    \n"
   ]
  },
  {
   "cell_type": "code",
   "execution_count": 25,
   "id": "422ecc29",
   "metadata": {},
   "outputs": [],
   "source": [
    "sonar_model = Sonar_sweep(3,10,5,1)"
   ]
  },
  {
   "cell_type": "code",
   "execution_count": 29,
   "id": "ef772b2b",
   "metadata": {},
   "outputs": [
    {
     "name": "stderr",
     "output_type": "stream",
     "text": [
      "100%|███████████████████████████████████████████| 10/10 [00:00<00:00, 22.18it/s]\n"
     ]
    }
   ],
   "source": [
    "loss_function = nn.MSELoss()\n",
    "\n",
    "learing_rate_s = 0.001\n",
    "\n",
    "\n",
    "\n",
    "grad_desc = torch.optim.SGD(sonar_model.parameters(), lr=learing_rate_s)\n",
    "\n",
    "epochs_s = 10\n",
    "losses_s = []\n",
    "sonar_model.train()\n",
    "\n",
    "for i in tqdm(range(epochs_s)):\n",
    "    ep_loss = []\n",
    "\n",
    "    for x_batch, y_batch in loader:\n",
    "        grad_desc.zero_grad()\n",
    "        y_pred = sonar_model(x_batch)\n",
    "        loss = loss_function(y_pred,y_batch)\n",
    "        loss.backward()\n",
    "        grad_desc.step()\n",
    "        ep_loss.append(loss.item())\n",
    "    \n",
    "    losses_s.append(sum(ep_loss) / len(loader))"
   ]
  },
  {
   "cell_type": "code",
   "execution_count": 24,
   "id": "cf40f988",
   "metadata": {},
   "outputs": [
    {
     "data": {
      "text/plain": [
       "tensor([-2.2083], grad_fn=<AddBackward0>)"
      ]
     },
     "execution_count": 24,
     "metadata": {},
     "output_type": "execute_result"
    }
   ],
   "source": []
  },
  {
   "cell_type": "code",
   "execution_count": null,
   "id": "f5de54f8",
   "metadata": {},
   "outputs": [],
   "source": []
  }
 ],
 "metadata": {
  "kernelspec": {
   "display_name": "Python 3 (ipykernel)",
   "language": "python",
   "name": "python3"
  },
  "language_info": {
   "codemirror_mode": {
    "name": "ipython",
    "version": 3
   },
   "file_extension": ".py",
   "mimetype": "text/x-python",
   "name": "python",
   "nbconvert_exporter": "python",
   "pygments_lexer": "ipython3",
   "version": "3.11.0"
  }
 },
 "nbformat": 4,
 "nbformat_minor": 5
}
